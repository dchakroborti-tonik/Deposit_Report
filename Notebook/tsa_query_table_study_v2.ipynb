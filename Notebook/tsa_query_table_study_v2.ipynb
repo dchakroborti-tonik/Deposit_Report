{
 "cells": [
  {
   "cell_type": "code",
   "execution_count": 1,
   "metadata": {},
   "outputs": [
    {
     "name": "stderr",
     "output_type": "stream",
     "text": [
      "C:\\Users\\DwaipayanChakroborti\\AppData\\Roaming\\Python\\Python310\\site-packages\\scipy\\__init__.py:146: UserWarning: A NumPy version >=1.16.5 and <1.23.0 is required for this version of SciPy (detected version 1.26.4\n",
      "  warnings.warn(f\"A NumPy version >={np_minversion} and <{np_maxversion}\"\n"
     ]
    }
   ],
   "source": [
    "# %% [markdown]\n",
    "# # Jupyter Notebook Loading Header\n",
    "#\n",
    "# This is a custom loading header for Jupyter Notebooks in Visual Studio Code.\n",
    "# It includes common imports and settings to get you started quickly.\n",
    "\n",
    "# %% [markdown]\n",
    "## Import Libraries\n",
    "import pandas as pd\n",
    "import numpy as np\n",
    "import matplotlib.pyplot as plt\n",
    "import seaborn as sns\n",
    "from google.cloud import bigquery\n",
    "import os\n",
    "path = r'C:\\Users\\DwaipayanChakroborti\\AppData\\Roaming\\gcloud\\legacy_credentials\\dchakroborti@tonikbank.com\\adc.json'\n",
    "os.environ['GOOGLE_APPLICATION_CREDENTIALS'] = path\n",
    "client = bigquery.Client(project='prj-prod-dataplatform')\n",
    "\n",
    "# %% [markdown]\n",
    "## Configure Settings\n",
    "# Set options or configurations as needed\n",
    "# Example: pd.set_option('display.max_columns', None)"
   ]
  },
  {
   "cell_type": "code",
   "execution_count": 2,
   "metadata": {},
   "outputs": [],
   "source": [
    "sq = \"\"\"with allcust as \n",
    "(select cust_id from prj-prod-dataplatform.dl_customers_db_raw.tdbk_customer_mtb where cust_id is not null),\n",
    "  custrejectlist --- List of all customer id where were ever rejected\n",
    "  AS (\n",
    "  SELECT\n",
    "    customerId, min(startApplyDateTime) firstapplicationdate, max(startApplyDateTime) lastapplicationdate, max(applicationStatus) applicationStatus\n",
    "  FROM\n",
    "    `risk_credit_mis.loan_master_table`\n",
    "  WHERE\n",
    "    applicationStatus LIKE 'REJECT' \n",
    "  GROUP BY \n",
    "    customerId),\n",
    "  Activecustlist ---- List of customer id with active loan\n",
    "  AS (\n",
    "  SELECT\n",
    "    customerId,\n",
    "    digitalLoanAccountId,\n",
    "    loanPaidStatus\n",
    "  FROM\n",
    "    `risk_credit_mis.loan_master_table`\n",
    "  WHERE\n",
    "    COALESCE(loanPaidStatus, 'NA') IN ('Normal',\n",
    "      'In Arrears')),\n",
    "  RejectcustwithnoActiveLoan --- List of customer id who have a rejected loan earlier and no active current loan\n",
    "    AS (\n",
    "    SELECT\n",
    "      customerId,\n",
    "      max(applicationStatus) applicationstatus\n",
    "    FROM\n",
    "      custrejectlist\n",
    "    WHERE\n",
    "      customerId NOT IN (\n",
    "      SELECT\n",
    "        customerId\n",
    "      FROM\n",
    "        Activecustlist) group by 1),\n",
    "  RejectcustwithActiveLoan --- List of customer id who have a rejected loan earlier and active current loan\n",
    "    AS (\n",
    "    SELECT\n",
    "      customerId,\n",
    "      max(applicationStatus) applicationstatus\n",
    "    FROM\n",
    "      custrejectlist\n",
    "    WHERE\n",
    "      customerId IN (\n",
    "      SELECT\n",
    "        customerId\n",
    "      FROM\n",
    "        Activecustlist) group by 1),\n",
    "  TSA_Account as \n",
    "  (select distinct customer_id FROM `prj-prod-dataplatform.risk_mart.customer_transactions` WHERE account_type = 'Tonik Account'),\n",
    "b as \n",
    "(select a1.cust_id,\n",
    "  a2.customerId customerwithrejectloans,\n",
    "  a3.customerId customerwithactiveloans,\n",
    "  a4.customerId custwithrejectloanandnotactiveloan,\n",
    "  a6.customerId custwithrejectloanandactiveloan,\n",
    "  a5.customer_id Tsaaccountcustomer\n",
    "  from allcust a1\n",
    "  left join custrejectlist a2 on a2.customerId = cast(a1.cust_id as numeric)\n",
    "  left join Activecustlist a3 on a3.customerId = cast(a1.cust_id as numeric)\n",
    "  left join RejectcustwithnoActiveLoan a4 on a4.customerId = cast(a1.cust_id as numeric)\n",
    "  left join TSA_Account a5 on a5.customer_id = a1.cust_id\n",
    "  left join RejectcustwithActiveLoan a6 on a6.customerId = cast(a1.cust_id as numeric)\n",
    ")\n",
    "# from b\n",
    "select * from b\n",
    "\"\"\""
   ]
  },
  {
   "cell_type": "code",
   "execution_count": 3,
   "metadata": {},
   "outputs": [
    {
     "name": "stdout",
     "output_type": "stream",
     "text": [
      "Job ID c1a13475-a91a-4c86-be81-159f389da1af successfully executed: |\u001b[32m          \u001b[0m|\n",
      "Downloading: 100%|\u001b[32m██████████\u001b[0m|\n"
     ]
    }
   ],
   "source": [
    "df = client.query(sq).to_dataframe(progress_bar_type='tqdm')"
   ]
  },
  {
   "cell_type": "code",
   "execution_count": 4,
   "metadata": {},
   "outputs": [
    {
     "name": "stdout",
     "output_type": "stream",
     "text": [
      "<class 'pandas.core.frame.DataFrame'>\n",
      "RangeIndex: 1470823 entries, 0 to 1470822\n",
      "Data columns (total 6 columns):\n",
      " #   Column                              Non-Null Count    Dtype \n",
      "---  ------                              --------------    ----- \n",
      " 0   cust_id                             1470823 non-null  object\n",
      " 1   customerwithrejectloans             264705 non-null   Int64 \n",
      " 2   customerwithactiveloans             61024 non-null    Int64 \n",
      " 3   custwithrejectloanandnotactiveloan  264704 non-null   Int64 \n",
      " 4   custwithrejectloanandactiveloan     1 non-null        Int64 \n",
      " 5   Tsaaccountcustomer                  341765 non-null   object\n",
      "dtypes: Int64(4), object(2)\n",
      "memory usage: 72.9+ MB\n"
     ]
    }
   ],
   "source": [
    "df.info()"
   ]
  },
  {
   "cell_type": "code",
   "execution_count": 5,
   "metadata": {},
   "outputs": [
    {
     "name": "stdout",
     "output_type": "stream",
     "text": [
      "The shape of the dataframe is:\t (1470823, 6)\n"
     ]
    },
    {
     "data": {
      "text/html": [
       "<div>\n",
       "<style scoped>\n",
       "    .dataframe tbody tr th:only-of-type {\n",
       "        vertical-align: middle;\n",
       "    }\n",
       "\n",
       "    .dataframe tbody tr th {\n",
       "        vertical-align: top;\n",
       "    }\n",
       "\n",
       "    .dataframe thead th {\n",
       "        text-align: right;\n",
       "    }\n",
       "</style>\n",
       "<table border=\"1\" class=\"dataframe\">\n",
       "  <thead>\n",
       "    <tr style=\"text-align: right;\">\n",
       "      <th></th>\n",
       "      <th>cust_id</th>\n",
       "      <th>customerwithrejectloans</th>\n",
       "      <th>customerwithactiveloans</th>\n",
       "      <th>custwithrejectloanandnotactiveloan</th>\n",
       "      <th>custwithrejectloanandactiveloan</th>\n",
       "      <th>Tsaaccountcustomer</th>\n",
       "    </tr>\n",
       "  </thead>\n",
       "  <tbody>\n",
       "    <tr>\n",
       "      <th>0</th>\n",
       "      <td>1077512</td>\n",
       "      <td>&lt;NA&gt;</td>\n",
       "      <td>&lt;NA&gt;</td>\n",
       "      <td>&lt;NA&gt;</td>\n",
       "      <td>&lt;NA&gt;</td>\n",
       "      <td>1077512</td>\n",
       "    </tr>\n",
       "    <tr>\n",
       "      <th>1</th>\n",
       "      <td>1077404</td>\n",
       "      <td>&lt;NA&gt;</td>\n",
       "      <td>&lt;NA&gt;</td>\n",
       "      <td>&lt;NA&gt;</td>\n",
       "      <td>&lt;NA&gt;</td>\n",
       "      <td>1077404</td>\n",
       "    </tr>\n",
       "    <tr>\n",
       "      <th>2</th>\n",
       "      <td>1077519</td>\n",
       "      <td>&lt;NA&gt;</td>\n",
       "      <td>&lt;NA&gt;</td>\n",
       "      <td>&lt;NA&gt;</td>\n",
       "      <td>&lt;NA&gt;</td>\n",
       "      <td>None</td>\n",
       "    </tr>\n",
       "    <tr>\n",
       "      <th>3</th>\n",
       "      <td>1077300</td>\n",
       "      <td>&lt;NA&gt;</td>\n",
       "      <td>&lt;NA&gt;</td>\n",
       "      <td>&lt;NA&gt;</td>\n",
       "      <td>&lt;NA&gt;</td>\n",
       "      <td>1077300</td>\n",
       "    </tr>\n",
       "    <tr>\n",
       "      <th>4</th>\n",
       "      <td>1077297</td>\n",
       "      <td>1077297</td>\n",
       "      <td>&lt;NA&gt;</td>\n",
       "      <td>1077297</td>\n",
       "      <td>&lt;NA&gt;</td>\n",
       "      <td>1077297</td>\n",
       "    </tr>\n",
       "  </tbody>\n",
       "</table>\n",
       "</div>"
      ],
      "text/plain": [
       "   cust_id  customerwithrejectloans  customerwithactiveloans  \\\n",
       "0  1077512                     <NA>                     <NA>   \n",
       "1  1077404                     <NA>                     <NA>   \n",
       "2  1077519                     <NA>                     <NA>   \n",
       "3  1077300                     <NA>                     <NA>   \n",
       "4  1077297                  1077297                     <NA>   \n",
       "\n",
       "   custwithrejectloanandnotactiveloan  custwithrejectloanandactiveloan  \\\n",
       "0                                <NA>                             <NA>   \n",
       "1                                <NA>                             <NA>   \n",
       "2                                <NA>                             <NA>   \n",
       "3                                <NA>                             <NA>   \n",
       "4                             1077297                             <NA>   \n",
       "\n",
       "  Tsaaccountcustomer  \n",
       "0            1077512  \n",
       "1            1077404  \n",
       "2               None  \n",
       "3            1077300  \n",
       "4            1077297  "
      ]
     },
     "execution_count": 5,
     "metadata": {},
     "output_type": "execute_result"
    }
   ],
   "source": [
    "print(f\"The shape of the dataframe is:\\t {df.shape}\")\n",
    "df.head()"
   ]
  },
  {
   "cell_type": "code",
   "execution_count": 6,
   "metadata": {},
   "outputs": [
    {
     "data": {
      "text/plain": [
       "cust_id                               1470823\n",
       "customerwithrejectloans                264705\n",
       "customerwithactiveloans                 61024\n",
       "custwithrejectloanandnotactiveloan     264704\n",
       "custwithrejectloanandactiveloan             1\n",
       "Tsaaccountcustomer                     341765\n",
       "dtype: int64"
      ]
     },
     "execution_count": 6,
     "metadata": {},
     "output_type": "execute_result"
    }
   ],
   "source": [
    "counts = df.count()\n",
    "counts"
   ]
  },
  {
   "cell_type": "markdown",
   "metadata": {},
   "source": [
    "# Customer with TSA Accounts"
   ]
  },
  {
   "cell_type": "code",
   "execution_count": 7,
   "metadata": {},
   "outputs": [
    {
     "data": {
      "text/plain": [
       "(341765, 6)"
      ]
     },
     "execution_count": 7,
     "metadata": {},
     "output_type": "execute_result"
    }
   ],
   "source": [
    "d = df[(df['cust_id'].notna()) \n",
    "       &(df['Tsaaccountcustomer'].notna())].copy()\n",
    "d.shape"
   ]
  },
  {
   "cell_type": "code",
   "execution_count": 8,
   "metadata": {},
   "outputs": [
    {
     "data": {
      "text/html": [
       "<div>\n",
       "<style scoped>\n",
       "    .dataframe tbody tr th:only-of-type {\n",
       "        vertical-align: middle;\n",
       "    }\n",
       "\n",
       "    .dataframe tbody tr th {\n",
       "        vertical-align: top;\n",
       "    }\n",
       "\n",
       "    .dataframe thead th {\n",
       "        text-align: right;\n",
       "    }\n",
       "</style>\n",
       "<table border=\"1\" class=\"dataframe\">\n",
       "  <thead>\n",
       "    <tr style=\"text-align: right;\">\n",
       "      <th></th>\n",
       "      <th>cust_id</th>\n",
       "      <th>customerwithrejectloans</th>\n",
       "      <th>customerwithactiveloans</th>\n",
       "      <th>custwithrejectloanandnotactiveloan</th>\n",
       "      <th>custwithrejectloanandactiveloan</th>\n",
       "      <th>Tsaaccountcustomer</th>\n",
       "      <th>desc</th>\n",
       "    </tr>\n",
       "  </thead>\n",
       "  <tbody>\n",
       "    <tr>\n",
       "      <th>0</th>\n",
       "      <td>1077512</td>\n",
       "      <td>&lt;NA&gt;</td>\n",
       "      <td>&lt;NA&gt;</td>\n",
       "      <td>&lt;NA&gt;</td>\n",
       "      <td>&lt;NA&gt;</td>\n",
       "      <td>1077512</td>\n",
       "      <td>Customer with TSA Accounts</td>\n",
       "    </tr>\n",
       "    <tr>\n",
       "      <th>1</th>\n",
       "      <td>1077404</td>\n",
       "      <td>&lt;NA&gt;</td>\n",
       "      <td>&lt;NA&gt;</td>\n",
       "      <td>&lt;NA&gt;</td>\n",
       "      <td>&lt;NA&gt;</td>\n",
       "      <td>1077404</td>\n",
       "      <td>Customer with TSA Accounts</td>\n",
       "    </tr>\n",
       "    <tr>\n",
       "      <th>3</th>\n",
       "      <td>1077300</td>\n",
       "      <td>&lt;NA&gt;</td>\n",
       "      <td>&lt;NA&gt;</td>\n",
       "      <td>&lt;NA&gt;</td>\n",
       "      <td>&lt;NA&gt;</td>\n",
       "      <td>1077300</td>\n",
       "      <td>Customer with TSA Accounts</td>\n",
       "    </tr>\n",
       "    <tr>\n",
       "      <th>4</th>\n",
       "      <td>1077297</td>\n",
       "      <td>1077297</td>\n",
       "      <td>&lt;NA&gt;</td>\n",
       "      <td>1077297</td>\n",
       "      <td>&lt;NA&gt;</td>\n",
       "      <td>1077297</td>\n",
       "      <td>Customer with TSA Accounts</td>\n",
       "    </tr>\n",
       "    <tr>\n",
       "      <th>5</th>\n",
       "      <td>1077386</td>\n",
       "      <td>&lt;NA&gt;</td>\n",
       "      <td>&lt;NA&gt;</td>\n",
       "      <td>&lt;NA&gt;</td>\n",
       "      <td>&lt;NA&gt;</td>\n",
       "      <td>1077386</td>\n",
       "      <td>Customer with TSA Accounts</td>\n",
       "    </tr>\n",
       "  </tbody>\n",
       "</table>\n",
       "</div>"
      ],
      "text/plain": [
       "   cust_id  customerwithrejectloans  customerwithactiveloans  \\\n",
       "0  1077512                     <NA>                     <NA>   \n",
       "1  1077404                     <NA>                     <NA>   \n",
       "3  1077300                     <NA>                     <NA>   \n",
       "4  1077297                  1077297                     <NA>   \n",
       "5  1077386                     <NA>                     <NA>   \n",
       "\n",
       "   custwithrejectloanandnotactiveloan  custwithrejectloanandactiveloan  \\\n",
       "0                                <NA>                             <NA>   \n",
       "1                                <NA>                             <NA>   \n",
       "3                                <NA>                             <NA>   \n",
       "4                             1077297                             <NA>   \n",
       "5                                <NA>                             <NA>   \n",
       "\n",
       "  Tsaaccountcustomer                        desc  \n",
       "0            1077512  Customer with TSA Accounts  \n",
       "1            1077404  Customer with TSA Accounts  \n",
       "3            1077300  Customer with TSA Accounts  \n",
       "4            1077297  Customer with TSA Accounts  \n",
       "5            1077386  Customer with TSA Accounts  "
      ]
     },
     "execution_count": 8,
     "metadata": {},
     "output_type": "execute_result"
    }
   ],
   "source": [
    "d['desc'] = 'Customer with TSA Accounts'\n",
    "d.head()"
   ]
  },
  {
   "cell_type": "code",
   "execution_count": 9,
   "metadata": {},
   "outputs": [
    {
     "data": {
      "text/html": [
       "<div>\n",
       "<style scoped>\n",
       "    .dataframe tbody tr th:only-of-type {\n",
       "        vertical-align: middle;\n",
       "    }\n",
       "\n",
       "    .dataframe tbody tr th {\n",
       "        vertical-align: top;\n",
       "    }\n",
       "\n",
       "    .dataframe thead th {\n",
       "        text-align: right;\n",
       "    }\n",
       "</style>\n",
       "<table border=\"1\" class=\"dataframe\">\n",
       "  <thead>\n",
       "    <tr style=\"text-align: right;\">\n",
       "      <th></th>\n",
       "      <th>cust_id</th>\n",
       "      <th>customerwithrejectloans</th>\n",
       "      <th>customerwithactiveloans</th>\n",
       "      <th>custwithrejectloanandnotactiveloan</th>\n",
       "      <th>custwithrejectloanandactiveloan</th>\n",
       "      <th>Tsaaccountcustomer</th>\n",
       "      <th>desc</th>\n",
       "    </tr>\n",
       "  </thead>\n",
       "  <tbody>\n",
       "    <tr>\n",
       "      <th>0</th>\n",
       "      <td>1077512</td>\n",
       "      <td>&lt;NA&gt;</td>\n",
       "      <td>&lt;NA&gt;</td>\n",
       "      <td>&lt;NA&gt;</td>\n",
       "      <td>&lt;NA&gt;</td>\n",
       "      <td>1077512</td>\n",
       "      <td>Customer with TSA Accounts</td>\n",
       "    </tr>\n",
       "    <tr>\n",
       "      <th>1</th>\n",
       "      <td>1077404</td>\n",
       "      <td>&lt;NA&gt;</td>\n",
       "      <td>&lt;NA&gt;</td>\n",
       "      <td>&lt;NA&gt;</td>\n",
       "      <td>&lt;NA&gt;</td>\n",
       "      <td>1077404</td>\n",
       "      <td>Customer with TSA Accounts</td>\n",
       "    </tr>\n",
       "    <tr>\n",
       "      <th>3</th>\n",
       "      <td>1077300</td>\n",
       "      <td>&lt;NA&gt;</td>\n",
       "      <td>&lt;NA&gt;</td>\n",
       "      <td>&lt;NA&gt;</td>\n",
       "      <td>&lt;NA&gt;</td>\n",
       "      <td>1077300</td>\n",
       "      <td>Customer with TSA Accounts</td>\n",
       "    </tr>\n",
       "    <tr>\n",
       "      <th>4</th>\n",
       "      <td>1077297</td>\n",
       "      <td>1077297</td>\n",
       "      <td>&lt;NA&gt;</td>\n",
       "      <td>1077297</td>\n",
       "      <td>&lt;NA&gt;</td>\n",
       "      <td>1077297</td>\n",
       "      <td>Customer with TSA Accounts</td>\n",
       "    </tr>\n",
       "    <tr>\n",
       "      <th>5</th>\n",
       "      <td>1077386</td>\n",
       "      <td>&lt;NA&gt;</td>\n",
       "      <td>&lt;NA&gt;</td>\n",
       "      <td>&lt;NA&gt;</td>\n",
       "      <td>&lt;NA&gt;</td>\n",
       "      <td>1077386</td>\n",
       "      <td>Customer with TSA Accounts</td>\n",
       "    </tr>\n",
       "    <tr>\n",
       "      <th>...</th>\n",
       "      <td>...</td>\n",
       "      <td>...</td>\n",
       "      <td>...</td>\n",
       "      <td>...</td>\n",
       "      <td>...</td>\n",
       "      <td>...</td>\n",
       "      <td>...</td>\n",
       "    </tr>\n",
       "    <tr>\n",
       "      <th>1470818</th>\n",
       "      <td>1073701</td>\n",
       "      <td>&lt;NA&gt;</td>\n",
       "      <td>1073701</td>\n",
       "      <td>&lt;NA&gt;</td>\n",
       "      <td>&lt;NA&gt;</td>\n",
       "      <td>1073701</td>\n",
       "      <td>Customer with TSA Accounts</td>\n",
       "    </tr>\n",
       "    <tr>\n",
       "      <th>1470819</th>\n",
       "      <td>1073511</td>\n",
       "      <td>&lt;NA&gt;</td>\n",
       "      <td>&lt;NA&gt;</td>\n",
       "      <td>&lt;NA&gt;</td>\n",
       "      <td>&lt;NA&gt;</td>\n",
       "      <td>1073511</td>\n",
       "      <td>Customer with TSA Accounts</td>\n",
       "    </tr>\n",
       "    <tr>\n",
       "      <th>1470820</th>\n",
       "      <td>1073619</td>\n",
       "      <td>1073619</td>\n",
       "      <td>&lt;NA&gt;</td>\n",
       "      <td>1073619</td>\n",
       "      <td>&lt;NA&gt;</td>\n",
       "      <td>1073619</td>\n",
       "      <td>Customer with TSA Accounts</td>\n",
       "    </tr>\n",
       "    <tr>\n",
       "      <th>1470821</th>\n",
       "      <td>1073608</td>\n",
       "      <td>&lt;NA&gt;</td>\n",
       "      <td>&lt;NA&gt;</td>\n",
       "      <td>&lt;NA&gt;</td>\n",
       "      <td>&lt;NA&gt;</td>\n",
       "      <td>1073608</td>\n",
       "      <td>Customer with TSA Accounts</td>\n",
       "    </tr>\n",
       "    <tr>\n",
       "      <th>1470822</th>\n",
       "      <td>1073543</td>\n",
       "      <td>1073543</td>\n",
       "      <td>&lt;NA&gt;</td>\n",
       "      <td>1073543</td>\n",
       "      <td>&lt;NA&gt;</td>\n",
       "      <td>1073543</td>\n",
       "      <td>Customer with TSA Accounts</td>\n",
       "    </tr>\n",
       "  </tbody>\n",
       "</table>\n",
       "<p>341765 rows × 7 columns</p>\n",
       "</div>"
      ],
      "text/plain": [
       "         cust_id  customerwithrejectloans  customerwithactiveloans  \\\n",
       "0        1077512                     <NA>                     <NA>   \n",
       "1        1077404                     <NA>                     <NA>   \n",
       "3        1077300                     <NA>                     <NA>   \n",
       "4        1077297                  1077297                     <NA>   \n",
       "5        1077386                     <NA>                     <NA>   \n",
       "...          ...                      ...                      ...   \n",
       "1470818  1073701                     <NA>                  1073701   \n",
       "1470819  1073511                     <NA>                     <NA>   \n",
       "1470820  1073619                  1073619                     <NA>   \n",
       "1470821  1073608                     <NA>                     <NA>   \n",
       "1470822  1073543                  1073543                     <NA>   \n",
       "\n",
       "         custwithrejectloanandnotactiveloan  custwithrejectloanandactiveloan  \\\n",
       "0                                      <NA>                             <NA>   \n",
       "1                                      <NA>                             <NA>   \n",
       "3                                      <NA>                             <NA>   \n",
       "4                                   1077297                             <NA>   \n",
       "5                                      <NA>                             <NA>   \n",
       "...                                     ...                              ...   \n",
       "1470818                                <NA>                             <NA>   \n",
       "1470819                                <NA>                             <NA>   \n",
       "1470820                             1073619                             <NA>   \n",
       "1470821                                <NA>                             <NA>   \n",
       "1470822                             1073543                             <NA>   \n",
       "\n",
       "        Tsaaccountcustomer                        desc  \n",
       "0                  1077512  Customer with TSA Accounts  \n",
       "1                  1077404  Customer with TSA Accounts  \n",
       "3                  1077300  Customer with TSA Accounts  \n",
       "4                  1077297  Customer with TSA Accounts  \n",
       "5                  1077386  Customer with TSA Accounts  \n",
       "...                    ...                         ...  \n",
       "1470818            1073701  Customer with TSA Accounts  \n",
       "1470819            1073511  Customer with TSA Accounts  \n",
       "1470820            1073619  Customer with TSA Accounts  \n",
       "1470821            1073608  Customer with TSA Accounts  \n",
       "1470822            1073543  Customer with TSA Accounts  \n",
       "\n",
       "[341765 rows x 7 columns]"
      ]
     },
     "execution_count": 9,
     "metadata": {},
     "output_type": "execute_result"
    }
   ],
   "source": [
    "df1 = d.copy()\n",
    "df1"
   ]
  },
  {
   "cell_type": "markdown",
   "metadata": {},
   "source": [
    "# Customer with TSA Account but No Active Loan and No Rejected Loan"
   ]
  },
  {
   "cell_type": "code",
   "execution_count": 10,
   "metadata": {},
   "outputs": [
    {
     "data": {
      "text/plain": [
       "(250865, 6)"
      ]
     },
     "execution_count": 10,
     "metadata": {},
     "output_type": "execute_result"
    }
   ],
   "source": [
    "d = df[(df['cust_id'].notna()) \n",
    "       & (df['Tsaaccountcustomer'].notna()) \n",
    "       &(df['customerwithactiveloans'].isnull()) \n",
    "       &(df['customerwithrejectloans'].isnull())\n",
    "       & (df['custwithrejectloanandnotactiveloan'].isnull())\n",
    "       &(df['custwithrejectloanandactiveloan'].isnull())].copy()\n",
    "d.shape"
   ]
  },
  {
   "cell_type": "code",
   "execution_count": 11,
   "metadata": {},
   "outputs": [
    {
     "data": {
      "text/html": [
       "<div>\n",
       "<style scoped>\n",
       "    .dataframe tbody tr th:only-of-type {\n",
       "        vertical-align: middle;\n",
       "    }\n",
       "\n",
       "    .dataframe tbody tr th {\n",
       "        vertical-align: top;\n",
       "    }\n",
       "\n",
       "    .dataframe thead th {\n",
       "        text-align: right;\n",
       "    }\n",
       "</style>\n",
       "<table border=\"1\" class=\"dataframe\">\n",
       "  <thead>\n",
       "    <tr style=\"text-align: right;\">\n",
       "      <th></th>\n",
       "      <th>cust_id</th>\n",
       "      <th>customerwithrejectloans</th>\n",
       "      <th>customerwithactiveloans</th>\n",
       "      <th>custwithrejectloanandnotactiveloan</th>\n",
       "      <th>custwithrejectloanandactiveloan</th>\n",
       "      <th>Tsaaccountcustomer</th>\n",
       "    </tr>\n",
       "  </thead>\n",
       "  <tbody>\n",
       "    <tr>\n",
       "      <th>0</th>\n",
       "      <td>1077512</td>\n",
       "      <td>&lt;NA&gt;</td>\n",
       "      <td>&lt;NA&gt;</td>\n",
       "      <td>&lt;NA&gt;</td>\n",
       "      <td>&lt;NA&gt;</td>\n",
       "      <td>1077512</td>\n",
       "    </tr>\n",
       "    <tr>\n",
       "      <th>1</th>\n",
       "      <td>1077404</td>\n",
       "      <td>&lt;NA&gt;</td>\n",
       "      <td>&lt;NA&gt;</td>\n",
       "      <td>&lt;NA&gt;</td>\n",
       "      <td>&lt;NA&gt;</td>\n",
       "      <td>1077404</td>\n",
       "    </tr>\n",
       "    <tr>\n",
       "      <th>3</th>\n",
       "      <td>1077300</td>\n",
       "      <td>&lt;NA&gt;</td>\n",
       "      <td>&lt;NA&gt;</td>\n",
       "      <td>&lt;NA&gt;</td>\n",
       "      <td>&lt;NA&gt;</td>\n",
       "      <td>1077300</td>\n",
       "    </tr>\n",
       "    <tr>\n",
       "      <th>5</th>\n",
       "      <td>1077386</td>\n",
       "      <td>&lt;NA&gt;</td>\n",
       "      <td>&lt;NA&gt;</td>\n",
       "      <td>&lt;NA&gt;</td>\n",
       "      <td>&lt;NA&gt;</td>\n",
       "      <td>1077386</td>\n",
       "    </tr>\n",
       "    <tr>\n",
       "      <th>6</th>\n",
       "      <td>1077303</td>\n",
       "      <td>&lt;NA&gt;</td>\n",
       "      <td>&lt;NA&gt;</td>\n",
       "      <td>&lt;NA&gt;</td>\n",
       "      <td>&lt;NA&gt;</td>\n",
       "      <td>1077303</td>\n",
       "    </tr>\n",
       "  </tbody>\n",
       "</table>\n",
       "</div>"
      ],
      "text/plain": [
       "   cust_id  customerwithrejectloans  customerwithactiveloans  \\\n",
       "0  1077512                     <NA>                     <NA>   \n",
       "1  1077404                     <NA>                     <NA>   \n",
       "3  1077300                     <NA>                     <NA>   \n",
       "5  1077386                     <NA>                     <NA>   \n",
       "6  1077303                     <NA>                     <NA>   \n",
       "\n",
       "   custwithrejectloanandnotactiveloan  custwithrejectloanandactiveloan  \\\n",
       "0                                <NA>                             <NA>   \n",
       "1                                <NA>                             <NA>   \n",
       "3                                <NA>                             <NA>   \n",
       "5                                <NA>                             <NA>   \n",
       "6                                <NA>                             <NA>   \n",
       "\n",
       "  Tsaaccountcustomer  \n",
       "0            1077512  \n",
       "1            1077404  \n",
       "3            1077300  \n",
       "5            1077386  \n",
       "6            1077303  "
      ]
     },
     "execution_count": 11,
     "metadata": {},
     "output_type": "execute_result"
    }
   ],
   "source": [
    "d.head()"
   ]
  },
  {
   "cell_type": "code",
   "execution_count": 12,
   "metadata": {},
   "outputs": [
    {
     "data": {
      "text/html": [
       "<div>\n",
       "<style scoped>\n",
       "    .dataframe tbody tr th:only-of-type {\n",
       "        vertical-align: middle;\n",
       "    }\n",
       "\n",
       "    .dataframe tbody tr th {\n",
       "        vertical-align: top;\n",
       "    }\n",
       "\n",
       "    .dataframe thead th {\n",
       "        text-align: right;\n",
       "    }\n",
       "</style>\n",
       "<table border=\"1\" class=\"dataframe\">\n",
       "  <thead>\n",
       "    <tr style=\"text-align: right;\">\n",
       "      <th></th>\n",
       "      <th>cust_id</th>\n",
       "      <th>customerwithrejectloans</th>\n",
       "      <th>customerwithactiveloans</th>\n",
       "      <th>custwithrejectloanandnotactiveloan</th>\n",
       "      <th>custwithrejectloanandactiveloan</th>\n",
       "      <th>Tsaaccountcustomer</th>\n",
       "      <th>desc</th>\n",
       "    </tr>\n",
       "  </thead>\n",
       "  <tbody>\n",
       "    <tr>\n",
       "      <th>0</th>\n",
       "      <td>1077512</td>\n",
       "      <td>&lt;NA&gt;</td>\n",
       "      <td>&lt;NA&gt;</td>\n",
       "      <td>&lt;NA&gt;</td>\n",
       "      <td>&lt;NA&gt;</td>\n",
       "      <td>1077512</td>\n",
       "      <td>Customer With TSA Account, No Active Loan &amp; No...</td>\n",
       "    </tr>\n",
       "    <tr>\n",
       "      <th>1</th>\n",
       "      <td>1077404</td>\n",
       "      <td>&lt;NA&gt;</td>\n",
       "      <td>&lt;NA&gt;</td>\n",
       "      <td>&lt;NA&gt;</td>\n",
       "      <td>&lt;NA&gt;</td>\n",
       "      <td>1077404</td>\n",
       "      <td>Customer With TSA Account, No Active Loan &amp; No...</td>\n",
       "    </tr>\n",
       "    <tr>\n",
       "      <th>3</th>\n",
       "      <td>1077300</td>\n",
       "      <td>&lt;NA&gt;</td>\n",
       "      <td>&lt;NA&gt;</td>\n",
       "      <td>&lt;NA&gt;</td>\n",
       "      <td>&lt;NA&gt;</td>\n",
       "      <td>1077300</td>\n",
       "      <td>Customer With TSA Account, No Active Loan &amp; No...</td>\n",
       "    </tr>\n",
       "    <tr>\n",
       "      <th>5</th>\n",
       "      <td>1077386</td>\n",
       "      <td>&lt;NA&gt;</td>\n",
       "      <td>&lt;NA&gt;</td>\n",
       "      <td>&lt;NA&gt;</td>\n",
       "      <td>&lt;NA&gt;</td>\n",
       "      <td>1077386</td>\n",
       "      <td>Customer With TSA Account, No Active Loan &amp; No...</td>\n",
       "    </tr>\n",
       "    <tr>\n",
       "      <th>6</th>\n",
       "      <td>1077303</td>\n",
       "      <td>&lt;NA&gt;</td>\n",
       "      <td>&lt;NA&gt;</td>\n",
       "      <td>&lt;NA&gt;</td>\n",
       "      <td>&lt;NA&gt;</td>\n",
       "      <td>1077303</td>\n",
       "      <td>Customer With TSA Account, No Active Loan &amp; No...</td>\n",
       "    </tr>\n",
       "  </tbody>\n",
       "</table>\n",
       "</div>"
      ],
      "text/plain": [
       "   cust_id  customerwithrejectloans  customerwithactiveloans  \\\n",
       "0  1077512                     <NA>                     <NA>   \n",
       "1  1077404                     <NA>                     <NA>   \n",
       "3  1077300                     <NA>                     <NA>   \n",
       "5  1077386                     <NA>                     <NA>   \n",
       "6  1077303                     <NA>                     <NA>   \n",
       "\n",
       "   custwithrejectloanandnotactiveloan  custwithrejectloanandactiveloan  \\\n",
       "0                                <NA>                             <NA>   \n",
       "1                                <NA>                             <NA>   \n",
       "3                                <NA>                             <NA>   \n",
       "5                                <NA>                             <NA>   \n",
       "6                                <NA>                             <NA>   \n",
       "\n",
       "  Tsaaccountcustomer                                               desc  \n",
       "0            1077512  Customer With TSA Account, No Active Loan & No...  \n",
       "1            1077404  Customer With TSA Account, No Active Loan & No...  \n",
       "3            1077300  Customer With TSA Account, No Active Loan & No...  \n",
       "5            1077386  Customer With TSA Account, No Active Loan & No...  \n",
       "6            1077303  Customer With TSA Account, No Active Loan & No...  "
      ]
     },
     "execution_count": 12,
     "metadata": {},
     "output_type": "execute_result"
    }
   ],
   "source": [
    "d['desc'] = 'Customer With TSA Account, No Active Loan & No Rejected Loan'\n",
    "d.head()"
   ]
  },
  {
   "cell_type": "code",
   "execution_count": 13,
   "metadata": {},
   "outputs": [
    {
     "data": {
      "text/html": [
       "<div>\n",
       "<style scoped>\n",
       "    .dataframe tbody tr th:only-of-type {\n",
       "        vertical-align: middle;\n",
       "    }\n",
       "\n",
       "    .dataframe tbody tr th {\n",
       "        vertical-align: top;\n",
       "    }\n",
       "\n",
       "    .dataframe thead th {\n",
       "        text-align: right;\n",
       "    }\n",
       "</style>\n",
       "<table border=\"1\" class=\"dataframe\">\n",
       "  <thead>\n",
       "    <tr style=\"text-align: right;\">\n",
       "      <th></th>\n",
       "      <th>cust_id</th>\n",
       "      <th>customerwithrejectloans</th>\n",
       "      <th>customerwithactiveloans</th>\n",
       "      <th>custwithrejectloanandnotactiveloan</th>\n",
       "      <th>custwithrejectloanandactiveloan</th>\n",
       "      <th>Tsaaccountcustomer</th>\n",
       "      <th>desc</th>\n",
       "    </tr>\n",
       "  </thead>\n",
       "  <tbody>\n",
       "    <tr>\n",
       "      <th>0</th>\n",
       "      <td>1077512</td>\n",
       "      <td>&lt;NA&gt;</td>\n",
       "      <td>&lt;NA&gt;</td>\n",
       "      <td>&lt;NA&gt;</td>\n",
       "      <td>&lt;NA&gt;</td>\n",
       "      <td>1077512</td>\n",
       "      <td>Customer With TSA Account, No Active Loan &amp; No...</td>\n",
       "    </tr>\n",
       "    <tr>\n",
       "      <th>1</th>\n",
       "      <td>1077404</td>\n",
       "      <td>&lt;NA&gt;</td>\n",
       "      <td>&lt;NA&gt;</td>\n",
       "      <td>&lt;NA&gt;</td>\n",
       "      <td>&lt;NA&gt;</td>\n",
       "      <td>1077404</td>\n",
       "      <td>Customer With TSA Account, No Active Loan &amp; No...</td>\n",
       "    </tr>\n",
       "    <tr>\n",
       "      <th>3</th>\n",
       "      <td>1077300</td>\n",
       "      <td>&lt;NA&gt;</td>\n",
       "      <td>&lt;NA&gt;</td>\n",
       "      <td>&lt;NA&gt;</td>\n",
       "      <td>&lt;NA&gt;</td>\n",
       "      <td>1077300</td>\n",
       "      <td>Customer With TSA Account, No Active Loan &amp; No...</td>\n",
       "    </tr>\n",
       "    <tr>\n",
       "      <th>5</th>\n",
       "      <td>1077386</td>\n",
       "      <td>&lt;NA&gt;</td>\n",
       "      <td>&lt;NA&gt;</td>\n",
       "      <td>&lt;NA&gt;</td>\n",
       "      <td>&lt;NA&gt;</td>\n",
       "      <td>1077386</td>\n",
       "      <td>Customer With TSA Account, No Active Loan &amp; No...</td>\n",
       "    </tr>\n",
       "    <tr>\n",
       "      <th>6</th>\n",
       "      <td>1077303</td>\n",
       "      <td>&lt;NA&gt;</td>\n",
       "      <td>&lt;NA&gt;</td>\n",
       "      <td>&lt;NA&gt;</td>\n",
       "      <td>&lt;NA&gt;</td>\n",
       "      <td>1077303</td>\n",
       "      <td>Customer With TSA Account, No Active Loan &amp; No...</td>\n",
       "    </tr>\n",
       "    <tr>\n",
       "      <th>...</th>\n",
       "      <td>...</td>\n",
       "      <td>...</td>\n",
       "      <td>...</td>\n",
       "      <td>...</td>\n",
       "      <td>...</td>\n",
       "      <td>...</td>\n",
       "      <td>...</td>\n",
       "    </tr>\n",
       "    <tr>\n",
       "      <th>1470815</th>\n",
       "      <td>1073623</td>\n",
       "      <td>&lt;NA&gt;</td>\n",
       "      <td>&lt;NA&gt;</td>\n",
       "      <td>&lt;NA&gt;</td>\n",
       "      <td>&lt;NA&gt;</td>\n",
       "      <td>1073623</td>\n",
       "      <td>Customer With TSA Account, No Active Loan &amp; No...</td>\n",
       "    </tr>\n",
       "    <tr>\n",
       "      <th>1470816</th>\n",
       "      <td>1073606</td>\n",
       "      <td>&lt;NA&gt;</td>\n",
       "      <td>&lt;NA&gt;</td>\n",
       "      <td>&lt;NA&gt;</td>\n",
       "      <td>&lt;NA&gt;</td>\n",
       "      <td>1073606</td>\n",
       "      <td>Customer With TSA Account, No Active Loan &amp; No...</td>\n",
       "    </tr>\n",
       "    <tr>\n",
       "      <th>1470817</th>\n",
       "      <td>1073707</td>\n",
       "      <td>&lt;NA&gt;</td>\n",
       "      <td>&lt;NA&gt;</td>\n",
       "      <td>&lt;NA&gt;</td>\n",
       "      <td>&lt;NA&gt;</td>\n",
       "      <td>1073707</td>\n",
       "      <td>Customer With TSA Account, No Active Loan &amp; No...</td>\n",
       "    </tr>\n",
       "    <tr>\n",
       "      <th>1470819</th>\n",
       "      <td>1073511</td>\n",
       "      <td>&lt;NA&gt;</td>\n",
       "      <td>&lt;NA&gt;</td>\n",
       "      <td>&lt;NA&gt;</td>\n",
       "      <td>&lt;NA&gt;</td>\n",
       "      <td>1073511</td>\n",
       "      <td>Customer With TSA Account, No Active Loan &amp; No...</td>\n",
       "    </tr>\n",
       "    <tr>\n",
       "      <th>1470821</th>\n",
       "      <td>1073608</td>\n",
       "      <td>&lt;NA&gt;</td>\n",
       "      <td>&lt;NA&gt;</td>\n",
       "      <td>&lt;NA&gt;</td>\n",
       "      <td>&lt;NA&gt;</td>\n",
       "      <td>1073608</td>\n",
       "      <td>Customer With TSA Account, No Active Loan &amp; No...</td>\n",
       "    </tr>\n",
       "  </tbody>\n",
       "</table>\n",
       "<p>250865 rows × 7 columns</p>\n",
       "</div>"
      ],
      "text/plain": [
       "         cust_id  customerwithrejectloans  customerwithactiveloans  \\\n",
       "0        1077512                     <NA>                     <NA>   \n",
       "1        1077404                     <NA>                     <NA>   \n",
       "3        1077300                     <NA>                     <NA>   \n",
       "5        1077386                     <NA>                     <NA>   \n",
       "6        1077303                     <NA>                     <NA>   \n",
       "...          ...                      ...                      ...   \n",
       "1470815  1073623                     <NA>                     <NA>   \n",
       "1470816  1073606                     <NA>                     <NA>   \n",
       "1470817  1073707                     <NA>                     <NA>   \n",
       "1470819  1073511                     <NA>                     <NA>   \n",
       "1470821  1073608                     <NA>                     <NA>   \n",
       "\n",
       "         custwithrejectloanandnotactiveloan  custwithrejectloanandactiveloan  \\\n",
       "0                                      <NA>                             <NA>   \n",
       "1                                      <NA>                             <NA>   \n",
       "3                                      <NA>                             <NA>   \n",
       "5                                      <NA>                             <NA>   \n",
       "6                                      <NA>                             <NA>   \n",
       "...                                     ...                              ...   \n",
       "1470815                                <NA>                             <NA>   \n",
       "1470816                                <NA>                             <NA>   \n",
       "1470817                                <NA>                             <NA>   \n",
       "1470819                                <NA>                             <NA>   \n",
       "1470821                                <NA>                             <NA>   \n",
       "\n",
       "        Tsaaccountcustomer                                               desc  \n",
       "0                  1077512  Customer With TSA Account, No Active Loan & No...  \n",
       "1                  1077404  Customer With TSA Account, No Active Loan & No...  \n",
       "3                  1077300  Customer With TSA Account, No Active Loan & No...  \n",
       "5                  1077386  Customer With TSA Account, No Active Loan & No...  \n",
       "6                  1077303  Customer With TSA Account, No Active Loan & No...  \n",
       "...                    ...                                                ...  \n",
       "1470815            1073623  Customer With TSA Account, No Active Loan & No...  \n",
       "1470816            1073606  Customer With TSA Account, No Active Loan & No...  \n",
       "1470817            1073707  Customer With TSA Account, No Active Loan & No...  \n",
       "1470819            1073511  Customer With TSA Account, No Active Loan & No...  \n",
       "1470821            1073608  Customer With TSA Account, No Active Loan & No...  \n",
       "\n",
       "[250865 rows x 7 columns]"
      ]
     },
     "execution_count": 13,
     "metadata": {},
     "output_type": "execute_result"
    }
   ],
   "source": [
    "df2 = d.copy()\n",
    "df2"
   ]
  },
  {
   "cell_type": "code",
   "execution_count": 14,
   "metadata": {},
   "outputs": [
    {
     "name": "stdout",
     "output_type": "stream",
     "text": [
      "Merged DataFrame Shape: (592630, 7)\n"
     ]
    },
    {
     "data": {
      "text/plain": [
       "desc\n",
       "Customer with TSA Accounts                                      341765\n",
       "Customer With TSA Account, No Active Loan & No Rejected Loan    250865\n",
       "Name: count, dtype: int64"
      ]
     },
     "execution_count": 14,
     "metadata": {},
     "output_type": "execute_result"
    }
   ],
   "source": [
    "import pandas as pd\n",
    "import numpy as np\n",
    "\n",
    "def fill_empty_columns(main_df, small_df):\n",
    "    extra_cols = set(small_df.columns) - set(main_df.columns)\n",
    "    for col in extra_cols:\n",
    "        main_df[col] = np.nan\n",
    "    return main_df\n",
    "\n",
    "df1 = fill_empty_columns(df1, df2)\n",
    "merged_df = pd.concat([df1, df2], ignore_index=False)\n",
    "print(f\"Merged DataFrame Shape: {merged_df.shape}\")\n",
    "merged_df['desc'].value_counts()"
   ]
  },
  {
   "cell_type": "markdown",
   "metadata": {},
   "source": [
    "# Customer with TSA Account, with Active Loan and No Rejected Loan"
   ]
  },
  {
   "cell_type": "code",
   "execution_count": 15,
   "metadata": {},
   "outputs": [
    {
     "data": {
      "text/plain": [
       "(55174, 6)"
      ]
     },
     "execution_count": 15,
     "metadata": {},
     "output_type": "execute_result"
    }
   ],
   "source": [
    "d = df[(df['cust_id'].notna()) \n",
    "       & (df['Tsaaccountcustomer'].notna()) \n",
    "       &(df['customerwithactiveloans'].notna()) \n",
    "       &(df['customerwithrejectloans'].isnull())\n",
    "       & (df['custwithrejectloanandnotactiveloan'].isnull()) \n",
    "       &(df['custwithrejectloanandactiveloan'].isnull())\n",
    "       ].copy()\n",
    "d.shape"
   ]
  },
  {
   "cell_type": "code",
   "execution_count": 16,
   "metadata": {},
   "outputs": [
    {
     "data": {
      "text/html": [
       "<div>\n",
       "<style scoped>\n",
       "    .dataframe tbody tr th:only-of-type {\n",
       "        vertical-align: middle;\n",
       "    }\n",
       "\n",
       "    .dataframe tbody tr th {\n",
       "        vertical-align: top;\n",
       "    }\n",
       "\n",
       "    .dataframe thead th {\n",
       "        text-align: right;\n",
       "    }\n",
       "</style>\n",
       "<table border=\"1\" class=\"dataframe\">\n",
       "  <thead>\n",
       "    <tr style=\"text-align: right;\">\n",
       "      <th></th>\n",
       "      <th>cust_id</th>\n",
       "      <th>customerwithrejectloans</th>\n",
       "      <th>customerwithactiveloans</th>\n",
       "      <th>custwithrejectloanandnotactiveloan</th>\n",
       "      <th>custwithrejectloanandactiveloan</th>\n",
       "      <th>Tsaaccountcustomer</th>\n",
       "      <th>desc</th>\n",
       "    </tr>\n",
       "  </thead>\n",
       "  <tbody>\n",
       "    <tr>\n",
       "      <th>366</th>\n",
       "      <td>1821659</td>\n",
       "      <td>&lt;NA&gt;</td>\n",
       "      <td>1821659</td>\n",
       "      <td>&lt;NA&gt;</td>\n",
       "      <td>&lt;NA&gt;</td>\n",
       "      <td>1821659</td>\n",
       "      <td>Customer With TSA Account, with Active Loan, n...</td>\n",
       "    </tr>\n",
       "    <tr>\n",
       "      <th>377</th>\n",
       "      <td>1821628</td>\n",
       "      <td>&lt;NA&gt;</td>\n",
       "      <td>1821628</td>\n",
       "      <td>&lt;NA&gt;</td>\n",
       "      <td>&lt;NA&gt;</td>\n",
       "      <td>1821628</td>\n",
       "      <td>Customer With TSA Account, with Active Loan, n...</td>\n",
       "    </tr>\n",
       "    <tr>\n",
       "      <th>378</th>\n",
       "      <td>1822136</td>\n",
       "      <td>&lt;NA&gt;</td>\n",
       "      <td>1822136</td>\n",
       "      <td>&lt;NA&gt;</td>\n",
       "      <td>&lt;NA&gt;</td>\n",
       "      <td>1822136</td>\n",
       "      <td>Customer With TSA Account, with Active Loan, n...</td>\n",
       "    </tr>\n",
       "    <tr>\n",
       "      <th>382</th>\n",
       "      <td>1821399</td>\n",
       "      <td>&lt;NA&gt;</td>\n",
       "      <td>1821399</td>\n",
       "      <td>&lt;NA&gt;</td>\n",
       "      <td>&lt;NA&gt;</td>\n",
       "      <td>1821399</td>\n",
       "      <td>Customer With TSA Account, with Active Loan, n...</td>\n",
       "    </tr>\n",
       "    <tr>\n",
       "      <th>384</th>\n",
       "      <td>1820725</td>\n",
       "      <td>&lt;NA&gt;</td>\n",
       "      <td>1820725</td>\n",
       "      <td>&lt;NA&gt;</td>\n",
       "      <td>&lt;NA&gt;</td>\n",
       "      <td>1820725</td>\n",
       "      <td>Customer With TSA Account, with Active Loan, n...</td>\n",
       "    </tr>\n",
       "  </tbody>\n",
       "</table>\n",
       "</div>"
      ],
      "text/plain": [
       "     cust_id  customerwithrejectloans  customerwithactiveloans  \\\n",
       "366  1821659                     <NA>                  1821659   \n",
       "377  1821628                     <NA>                  1821628   \n",
       "378  1822136                     <NA>                  1822136   \n",
       "382  1821399                     <NA>                  1821399   \n",
       "384  1820725                     <NA>                  1820725   \n",
       "\n",
       "     custwithrejectloanandnotactiveloan  custwithrejectloanandactiveloan  \\\n",
       "366                                <NA>                             <NA>   \n",
       "377                                <NA>                             <NA>   \n",
       "378                                <NA>                             <NA>   \n",
       "382                                <NA>                             <NA>   \n",
       "384                                <NA>                             <NA>   \n",
       "\n",
       "    Tsaaccountcustomer                                               desc  \n",
       "366            1821659  Customer With TSA Account, with Active Loan, n...  \n",
       "377            1821628  Customer With TSA Account, with Active Loan, n...  \n",
       "378            1822136  Customer With TSA Account, with Active Loan, n...  \n",
       "382            1821399  Customer With TSA Account, with Active Loan, n...  \n",
       "384            1820725  Customer With TSA Account, with Active Loan, n...  "
      ]
     },
     "execution_count": 16,
     "metadata": {},
     "output_type": "execute_result"
    }
   ],
   "source": [
    "d['desc'] = 'Customer With TSA Account, with Active Loan, no rejected loan'\n",
    "d.head()"
   ]
  },
  {
   "cell_type": "code",
   "execution_count": 17,
   "metadata": {},
   "outputs": [
    {
     "data": {
      "text/plain": [
       "55174"
      ]
     },
     "execution_count": 17,
     "metadata": {},
     "output_type": "execute_result"
    }
   ],
   "source": [
    "df3 = d.copy()\n",
    "len(df3)"
   ]
  },
  {
   "cell_type": "code",
   "execution_count": 18,
   "metadata": {},
   "outputs": [
    {
     "name": "stdout",
     "output_type": "stream",
     "text": [
      "Merged DataFrame Shape: (647804, 7)\n"
     ]
    },
    {
     "data": {
      "text/plain": [
       "desc\n",
       "Customer with TSA Accounts                                       341765\n",
       "Customer With TSA Account, No Active Loan & No Rejected Loan     250865\n",
       "Customer With TSA Account, with Active Loan, no rejected loan     55174\n",
       "Name: count, dtype: int64"
      ]
     },
     "execution_count": 18,
     "metadata": {},
     "output_type": "execute_result"
    }
   ],
   "source": [
    "import pandas as pd\n",
    "import numpy as np\n",
    "\n",
    "def fill_empty_columns(main_df, small_df):\n",
    "    extra_cols = set(small_df.columns) - set(main_df.columns)\n",
    "    for col in extra_cols:\n",
    "        main_df[col] = np.nan\n",
    "    return main_df\n",
    "\n",
    "merged_df = pd.concat([df1, df2, df3], ignore_index=False)\n",
    "print(f\"Merged DataFrame Shape: {merged_df.shape}\")\n",
    "merged_df['desc'].value_counts()"
   ]
  },
  {
   "cell_type": "markdown",
   "metadata": {},
   "source": [
    "# Customer with TSA Account, No Active Loan & has a Rejected Loan"
   ]
  },
  {
   "cell_type": "code",
   "execution_count": 19,
   "metadata": {},
   "outputs": [
    {
     "data": {
      "text/plain": [
       "(35725, 6)"
      ]
     },
     "execution_count": 19,
     "metadata": {},
     "output_type": "execute_result"
    }
   ],
   "source": [
    "d = df[(df['cust_id'].notna()) \n",
    "       & (df['Tsaaccountcustomer'].notna()) \n",
    "       &(df['customerwithactiveloans'].isnull()) \n",
    "       &(df['customerwithrejectloans'].notna())\n",
    "       ].copy()\n",
    "d.shape"
   ]
  },
  {
   "cell_type": "code",
   "execution_count": 20,
   "metadata": {},
   "outputs": [
    {
     "data": {
      "text/html": [
       "<div>\n",
       "<style scoped>\n",
       "    .dataframe tbody tr th:only-of-type {\n",
       "        vertical-align: middle;\n",
       "    }\n",
       "\n",
       "    .dataframe tbody tr th {\n",
       "        vertical-align: top;\n",
       "    }\n",
       "\n",
       "    .dataframe thead th {\n",
       "        text-align: right;\n",
       "    }\n",
       "</style>\n",
       "<table border=\"1\" class=\"dataframe\">\n",
       "  <thead>\n",
       "    <tr style=\"text-align: right;\">\n",
       "      <th></th>\n",
       "      <th>cust_id</th>\n",
       "      <th>customerwithrejectloans</th>\n",
       "      <th>customerwithactiveloans</th>\n",
       "      <th>custwithrejectloanandnotactiveloan</th>\n",
       "      <th>custwithrejectloanandactiveloan</th>\n",
       "      <th>Tsaaccountcustomer</th>\n",
       "      <th>desc</th>\n",
       "    </tr>\n",
       "  </thead>\n",
       "  <tbody>\n",
       "    <tr>\n",
       "      <th>4</th>\n",
       "      <td>1077297</td>\n",
       "      <td>1077297</td>\n",
       "      <td>&lt;NA&gt;</td>\n",
       "      <td>1077297</td>\n",
       "      <td>&lt;NA&gt;</td>\n",
       "      <td>1077297</td>\n",
       "      <td>Customer With TSA Account, No Active Loan, has...</td>\n",
       "    </tr>\n",
       "    <tr>\n",
       "      <th>7</th>\n",
       "      <td>1077484</td>\n",
       "      <td>1077484</td>\n",
       "      <td>&lt;NA&gt;</td>\n",
       "      <td>1077484</td>\n",
       "      <td>&lt;NA&gt;</td>\n",
       "      <td>1077484</td>\n",
       "      <td>Customer With TSA Account, No Active Loan, has...</td>\n",
       "    </tr>\n",
       "    <tr>\n",
       "      <th>19</th>\n",
       "      <td>1077266</td>\n",
       "      <td>1077266</td>\n",
       "      <td>&lt;NA&gt;</td>\n",
       "      <td>1077266</td>\n",
       "      <td>&lt;NA&gt;</td>\n",
       "      <td>1077266</td>\n",
       "      <td>Customer With TSA Account, No Active Loan, has...</td>\n",
       "    </tr>\n",
       "    <tr>\n",
       "      <th>170</th>\n",
       "      <td>1077526</td>\n",
       "      <td>1077526</td>\n",
       "      <td>&lt;NA&gt;</td>\n",
       "      <td>1077526</td>\n",
       "      <td>&lt;NA&gt;</td>\n",
       "      <td>1077526</td>\n",
       "      <td>Customer With TSA Account, No Active Loan, has...</td>\n",
       "    </tr>\n",
       "    <tr>\n",
       "      <th>172</th>\n",
       "      <td>1077279</td>\n",
       "      <td>1077279</td>\n",
       "      <td>&lt;NA&gt;</td>\n",
       "      <td>1077279</td>\n",
       "      <td>&lt;NA&gt;</td>\n",
       "      <td>1077279</td>\n",
       "      <td>Customer With TSA Account, No Active Loan, has...</td>\n",
       "    </tr>\n",
       "  </tbody>\n",
       "</table>\n",
       "</div>"
      ],
      "text/plain": [
       "     cust_id  customerwithrejectloans  customerwithactiveloans  \\\n",
       "4    1077297                  1077297                     <NA>   \n",
       "7    1077484                  1077484                     <NA>   \n",
       "19   1077266                  1077266                     <NA>   \n",
       "170  1077526                  1077526                     <NA>   \n",
       "172  1077279                  1077279                     <NA>   \n",
       "\n",
       "     custwithrejectloanandnotactiveloan  custwithrejectloanandactiveloan  \\\n",
       "4                               1077297                             <NA>   \n",
       "7                               1077484                             <NA>   \n",
       "19                              1077266                             <NA>   \n",
       "170                             1077526                             <NA>   \n",
       "172                             1077279                             <NA>   \n",
       "\n",
       "    Tsaaccountcustomer                                               desc  \n",
       "4              1077297  Customer With TSA Account, No Active Loan, has...  \n",
       "7              1077484  Customer With TSA Account, No Active Loan, has...  \n",
       "19             1077266  Customer With TSA Account, No Active Loan, has...  \n",
       "170            1077526  Customer With TSA Account, No Active Loan, has...  \n",
       "172            1077279  Customer With TSA Account, No Active Loan, has...  "
      ]
     },
     "execution_count": 20,
     "metadata": {},
     "output_type": "execute_result"
    }
   ],
   "source": [
    "d['desc'] = 'Customer With TSA Account, No Active Loan, has rejected loan'\n",
    "d.head()"
   ]
  },
  {
   "cell_type": "code",
   "execution_count": 21,
   "metadata": {},
   "outputs": [],
   "source": [
    "df4 = d.copy()"
   ]
  },
  {
   "cell_type": "code",
   "execution_count": 22,
   "metadata": {},
   "outputs": [
    {
     "name": "stdout",
     "output_type": "stream",
     "text": [
      "Merged DataFrame Shape: (683529, 7)\n"
     ]
    },
    {
     "data": {
      "text/plain": [
       "desc\n",
       "Customer with TSA Accounts                                       341765\n",
       "Customer With TSA Account, No Active Loan & No Rejected Loan     250865\n",
       "Customer With TSA Account, with Active Loan, no rejected loan     55174\n",
       "Customer With TSA Account, No Active Loan, has rejected loan      35725\n",
       "Name: count, dtype: int64"
      ]
     },
     "execution_count": 22,
     "metadata": {},
     "output_type": "execute_result"
    }
   ],
   "source": [
    "import pandas as pd\n",
    "import numpy as np\n",
    "\n",
    "def fill_empty_columns(main_df, small_df):\n",
    "    extra_cols = set(small_df.columns) - set(main_df.columns)\n",
    "    for col in extra_cols:\n",
    "        main_df[col] = np.nan\n",
    "    return main_df\n",
    "\n",
    "merged_df = pd.concat([df1, df2, df3, df4], ignore_index=False)\n",
    "print(f\"Merged DataFrame Shape: {merged_df.shape}\")\n",
    "merged_df['desc'].value_counts()"
   ]
  },
  {
   "cell_type": "code",
   "execution_count": 23,
   "metadata": {},
   "outputs": [
    {
     "data": {
      "text/plain": [
       "cust_id                               1470823\n",
       "customerwithrejectloans                264705\n",
       "customerwithactiveloans                 61024\n",
       "custwithrejectloanandnotactiveloan     264704\n",
       "custwithrejectloanandactiveloan             1\n",
       "Tsaaccountcustomer                     341765\n",
       "dtype: int64"
      ]
     },
     "execution_count": 23,
     "metadata": {},
     "output_type": "execute_result"
    }
   ],
   "source": [
    "counts"
   ]
  },
  {
   "cell_type": "markdown",
   "metadata": {},
   "source": [
    "# Customer with TSA Account with Active Loan and Rejected Loan"
   ]
  },
  {
   "cell_type": "code",
   "execution_count": 24,
   "metadata": {},
   "outputs": [
    {
     "data": {
      "text/plain": [
       "(1, 6)"
      ]
     },
     "execution_count": 24,
     "metadata": {},
     "output_type": "execute_result"
    }
   ],
   "source": [
    "d = df[(df['cust_id'].notna()) \n",
    "       & (df['Tsaaccountcustomer'].notna()) \n",
    "       &(df['customerwithactiveloans'].notna()) \n",
    "       &(df['customerwithrejectloans'].notna())\n",
    "       &(df['custwithrejectloanandactiveloan'].notna())\n",
    "       ].copy()\n",
    "d.shape"
   ]
  },
  {
   "cell_type": "code",
   "execution_count": 25,
   "metadata": {},
   "outputs": [
    {
     "data": {
      "text/html": [
       "<div>\n",
       "<style scoped>\n",
       "    .dataframe tbody tr th:only-of-type {\n",
       "        vertical-align: middle;\n",
       "    }\n",
       "\n",
       "    .dataframe tbody tr th {\n",
       "        vertical-align: top;\n",
       "    }\n",
       "\n",
       "    .dataframe thead th {\n",
       "        text-align: right;\n",
       "    }\n",
       "</style>\n",
       "<table border=\"1\" class=\"dataframe\">\n",
       "  <thead>\n",
       "    <tr style=\"text-align: right;\">\n",
       "      <th></th>\n",
       "      <th>cust_id</th>\n",
       "      <th>customerwithrejectloans</th>\n",
       "      <th>customerwithactiveloans</th>\n",
       "      <th>custwithrejectloanandnotactiveloan</th>\n",
       "      <th>custwithrejectloanandactiveloan</th>\n",
       "      <th>Tsaaccountcustomer</th>\n",
       "      <th>desc</th>\n",
       "    </tr>\n",
       "  </thead>\n",
       "  <tbody>\n",
       "    <tr>\n",
       "      <th>1104405</th>\n",
       "      <td>1070155</td>\n",
       "      <td>1070155</td>\n",
       "      <td>1070155</td>\n",
       "      <td>&lt;NA&gt;</td>\n",
       "      <td>1070155</td>\n",
       "      <td>1070155</td>\n",
       "      <td>Customer with TSA Account with Active Loan and...</td>\n",
       "    </tr>\n",
       "  </tbody>\n",
       "</table>\n",
       "</div>"
      ],
      "text/plain": [
       "         cust_id  customerwithrejectloans  customerwithactiveloans  \\\n",
       "1104405  1070155                  1070155                  1070155   \n",
       "\n",
       "         custwithrejectloanandnotactiveloan  custwithrejectloanandactiveloan  \\\n",
       "1104405                                <NA>                          1070155   \n",
       "\n",
       "        Tsaaccountcustomer                                               desc  \n",
       "1104405            1070155  Customer with TSA Account with Active Loan and...  "
      ]
     },
     "execution_count": 25,
     "metadata": {},
     "output_type": "execute_result"
    }
   ],
   "source": [
    "d['desc'] = 'Customer with TSA Account with Active Loan and Rejected Loan'\n",
    "d.head()"
   ]
  },
  {
   "cell_type": "code",
   "execution_count": 26,
   "metadata": {},
   "outputs": [],
   "source": [
    "df5 = d.copy()"
   ]
  },
  {
   "cell_type": "code",
   "execution_count": 27,
   "metadata": {},
   "outputs": [
    {
     "name": "stdout",
     "output_type": "stream",
     "text": [
      "Merged DataFrame Shape: (683530, 7)\n"
     ]
    },
    {
     "data": {
      "text/plain": [
       "desc\n",
       "Customer with TSA Accounts                                       341765\n",
       "Customer With TSA Account, No Active Loan & No Rejected Loan     250865\n",
       "Customer With TSA Account, with Active Loan, no rejected loan     55174\n",
       "Customer With TSA Account, No Active Loan, has rejected loan      35725\n",
       "Customer with TSA Account with Active Loan and Rejected Loan          1\n",
       "Name: count, dtype: int64"
      ]
     },
     "execution_count": 27,
     "metadata": {},
     "output_type": "execute_result"
    }
   ],
   "source": [
    "def fill_empty_columns(main_df, small_df):\n",
    "    extra_cols = set(small_df.columns) - set(main_df.columns)\n",
    "    for col in extra_cols:\n",
    "        main_df[col] = np.nan\n",
    "    return main_df\n",
    "\n",
    "merged_df = pd.concat([df1, df2, df3, df4, df5], ignore_index=False)\n",
    "print(f\"Merged DataFrame Shape: {merged_df.shape}\")\n",
    "merged_df['desc'].value_counts()"
   ]
  },
  {
   "cell_type": "markdown",
   "metadata": {},
   "source": [
    "# Customer with No TSA Account but with Rejected Loan"
   ]
  },
  {
   "cell_type": "code",
   "execution_count": 28,
   "metadata": {},
   "outputs": [
    {
     "data": {
      "text/plain": [
       "(228979, 6)"
      ]
     },
     "execution_count": 28,
     "metadata": {},
     "output_type": "execute_result"
    }
   ],
   "source": [
    "d = df[(df['cust_id'].notna()) \n",
    "       & (df['Tsaaccountcustomer'].isnull()) \n",
    "       &(df['customerwithactiveloans'].isnull()) \n",
    "       &(df['customerwithrejectloans'].notna())\n",
    "             ].copy()\n",
    "d.shape"
   ]
  },
  {
   "cell_type": "code",
   "execution_count": 29,
   "metadata": {},
   "outputs": [
    {
     "data": {
      "text/html": [
       "<div>\n",
       "<style scoped>\n",
       "    .dataframe tbody tr th:only-of-type {\n",
       "        vertical-align: middle;\n",
       "    }\n",
       "\n",
       "    .dataframe tbody tr th {\n",
       "        vertical-align: top;\n",
       "    }\n",
       "\n",
       "    .dataframe thead th {\n",
       "        text-align: right;\n",
       "    }\n",
       "</style>\n",
       "<table border=\"1\" class=\"dataframe\">\n",
       "  <thead>\n",
       "    <tr style=\"text-align: right;\">\n",
       "      <th></th>\n",
       "      <th>cust_id</th>\n",
       "      <th>customerwithrejectloans</th>\n",
       "      <th>customerwithactiveloans</th>\n",
       "      <th>custwithrejectloanandnotactiveloan</th>\n",
       "      <th>custwithrejectloanandactiveloan</th>\n",
       "      <th>Tsaaccountcustomer</th>\n",
       "      <th>desc</th>\n",
       "    </tr>\n",
       "  </thead>\n",
       "  <tbody>\n",
       "    <tr>\n",
       "      <th>107</th>\n",
       "      <td>1077534</td>\n",
       "      <td>1077534</td>\n",
       "      <td>&lt;NA&gt;</td>\n",
       "      <td>1077534</td>\n",
       "      <td>&lt;NA&gt;</td>\n",
       "      <td>None</td>\n",
       "      <td>Customer with No TSA Account but with Rejected...</td>\n",
       "    </tr>\n",
       "    <tr>\n",
       "      <th>122</th>\n",
       "      <td>1077508</td>\n",
       "      <td>1077508</td>\n",
       "      <td>&lt;NA&gt;</td>\n",
       "      <td>1077508</td>\n",
       "      <td>&lt;NA&gt;</td>\n",
       "      <td>None</td>\n",
       "      <td>Customer with No TSA Account but with Rejected...</td>\n",
       "    </tr>\n",
       "    <tr>\n",
       "      <th>130</th>\n",
       "      <td>1077322</td>\n",
       "      <td>1077322</td>\n",
       "      <td>&lt;NA&gt;</td>\n",
       "      <td>1077322</td>\n",
       "      <td>&lt;NA&gt;</td>\n",
       "      <td>None</td>\n",
       "      <td>Customer with No TSA Account but with Rejected...</td>\n",
       "    </tr>\n",
       "    <tr>\n",
       "      <th>131</th>\n",
       "      <td>1077474</td>\n",
       "      <td>1077474</td>\n",
       "      <td>&lt;NA&gt;</td>\n",
       "      <td>1077474</td>\n",
       "      <td>&lt;NA&gt;</td>\n",
       "      <td>None</td>\n",
       "      <td>Customer with No TSA Account but with Rejected...</td>\n",
       "    </tr>\n",
       "    <tr>\n",
       "      <th>132</th>\n",
       "      <td>1077529</td>\n",
       "      <td>1077529</td>\n",
       "      <td>&lt;NA&gt;</td>\n",
       "      <td>1077529</td>\n",
       "      <td>&lt;NA&gt;</td>\n",
       "      <td>None</td>\n",
       "      <td>Customer with No TSA Account but with Rejected...</td>\n",
       "    </tr>\n",
       "  </tbody>\n",
       "</table>\n",
       "</div>"
      ],
      "text/plain": [
       "     cust_id  customerwithrejectloans  customerwithactiveloans  \\\n",
       "107  1077534                  1077534                     <NA>   \n",
       "122  1077508                  1077508                     <NA>   \n",
       "130  1077322                  1077322                     <NA>   \n",
       "131  1077474                  1077474                     <NA>   \n",
       "132  1077529                  1077529                     <NA>   \n",
       "\n",
       "     custwithrejectloanandnotactiveloan  custwithrejectloanandactiveloan  \\\n",
       "107                             1077534                             <NA>   \n",
       "122                             1077508                             <NA>   \n",
       "130                             1077322                             <NA>   \n",
       "131                             1077474                             <NA>   \n",
       "132                             1077529                             <NA>   \n",
       "\n",
       "    Tsaaccountcustomer                                               desc  \n",
       "107               None  Customer with No TSA Account but with Rejected...  \n",
       "122               None  Customer with No TSA Account but with Rejected...  \n",
       "130               None  Customer with No TSA Account but with Rejected...  \n",
       "131               None  Customer with No TSA Account but with Rejected...  \n",
       "132               None  Customer with No TSA Account but with Rejected...  "
      ]
     },
     "execution_count": 29,
     "metadata": {},
     "output_type": "execute_result"
    }
   ],
   "source": [
    "d['desc'] = 'Customer with No TSA Account but with Rejected Loan'\n",
    "d.head()"
   ]
  },
  {
   "cell_type": "code",
   "execution_count": 30,
   "metadata": {},
   "outputs": [],
   "source": [
    "df6 = d.copy()"
   ]
  },
  {
   "cell_type": "code",
   "execution_count": 31,
   "metadata": {},
   "outputs": [
    {
     "name": "stdout",
     "output_type": "stream",
     "text": [
      "Merged DataFrame Shape: (912509, 7)\n"
     ]
    },
    {
     "data": {
      "text/plain": [
       "desc\n",
       "Customer with TSA Accounts                                       341765\n",
       "Customer With TSA Account, No Active Loan & No Rejected Loan     250865\n",
       "Customer with No TSA Account but with Rejected Loan              228979\n",
       "Customer With TSA Account, with Active Loan, no rejected loan     55174\n",
       "Customer With TSA Account, No Active Loan, has rejected loan      35725\n",
       "Customer with TSA Account with Active Loan and Rejected Loan          1\n",
       "Name: count, dtype: int64"
      ]
     },
     "execution_count": 31,
     "metadata": {},
     "output_type": "execute_result"
    }
   ],
   "source": [
    "def fill_empty_columns(main_df, small_df):\n",
    "    extra_cols = set(small_df.columns) - set(main_df.columns)\n",
    "    for col in extra_cols:\n",
    "        main_df[col] = np.nan\n",
    "    return main_df\n",
    "\n",
    "merged_df = pd.concat([df1, df2, df3, df4, df5, df6], ignore_index=False)\n",
    "print(f\"Merged DataFrame Shape: {merged_df.shape}\")\n",
    "merged_df['desc'].value_counts()"
   ]
  },
  {
   "cell_type": "markdown",
   "metadata": {},
   "source": [
    "# Customer with No TSA Account but with Active Loan"
   ]
  },
  {
   "cell_type": "code",
   "execution_count": 32,
   "metadata": {},
   "outputs": [
    {
     "data": {
      "text/plain": [
       "(5849, 6)"
      ]
     },
     "execution_count": 32,
     "metadata": {},
     "output_type": "execute_result"
    }
   ],
   "source": [
    "d = df[(df['cust_id'].notna()) \n",
    "       & (df['Tsaaccountcustomer'].isnull()) \n",
    "       &(df['customerwithactiveloans'].notna()) \n",
    "       &(df['customerwithrejectloans'].isnull())\n",
    "             ].copy()\n",
    "d.shape"
   ]
  },
  {
   "cell_type": "code",
   "execution_count": 33,
   "metadata": {},
   "outputs": [
    {
     "data": {
      "text/html": [
       "<div>\n",
       "<style scoped>\n",
       "    .dataframe tbody tr th:only-of-type {\n",
       "        vertical-align: middle;\n",
       "    }\n",
       "\n",
       "    .dataframe tbody tr th {\n",
       "        vertical-align: top;\n",
       "    }\n",
       "\n",
       "    .dataframe thead th {\n",
       "        text-align: right;\n",
       "    }\n",
       "</style>\n",
       "<table border=\"1\" class=\"dataframe\">\n",
       "  <thead>\n",
       "    <tr style=\"text-align: right;\">\n",
       "      <th></th>\n",
       "      <th>cust_id</th>\n",
       "      <th>customerwithrejectloans</th>\n",
       "      <th>customerwithactiveloans</th>\n",
       "      <th>custwithrejectloanandnotactiveloan</th>\n",
       "      <th>custwithrejectloanandactiveloan</th>\n",
       "      <th>Tsaaccountcustomer</th>\n",
       "      <th>desc</th>\n",
       "    </tr>\n",
       "  </thead>\n",
       "  <tbody>\n",
       "    <tr>\n",
       "      <th>4779</th>\n",
       "      <td>2415158</td>\n",
       "      <td>&lt;NA&gt;</td>\n",
       "      <td>2415158</td>\n",
       "      <td>&lt;NA&gt;</td>\n",
       "      <td>&lt;NA&gt;</td>\n",
       "      <td>None</td>\n",
       "      <td>customer with No TSA Account but with Active Loan</td>\n",
       "    </tr>\n",
       "    <tr>\n",
       "      <th>4782</th>\n",
       "      <td>2415107</td>\n",
       "      <td>&lt;NA&gt;</td>\n",
       "      <td>2415107</td>\n",
       "      <td>&lt;NA&gt;</td>\n",
       "      <td>&lt;NA&gt;</td>\n",
       "      <td>None</td>\n",
       "      <td>customer with No TSA Account but with Active Loan</td>\n",
       "    </tr>\n",
       "    <tr>\n",
       "      <th>4783</th>\n",
       "      <td>2415160</td>\n",
       "      <td>&lt;NA&gt;</td>\n",
       "      <td>2415160</td>\n",
       "      <td>&lt;NA&gt;</td>\n",
       "      <td>&lt;NA&gt;</td>\n",
       "      <td>None</td>\n",
       "      <td>customer with No TSA Account but with Active Loan</td>\n",
       "    </tr>\n",
       "    <tr>\n",
       "      <th>4833</th>\n",
       "      <td>2415202</td>\n",
       "      <td>&lt;NA&gt;</td>\n",
       "      <td>2415202</td>\n",
       "      <td>&lt;NA&gt;</td>\n",
       "      <td>&lt;NA&gt;</td>\n",
       "      <td>None</td>\n",
       "      <td>customer with No TSA Account but with Active Loan</td>\n",
       "    </tr>\n",
       "    <tr>\n",
       "      <th>4869</th>\n",
       "      <td>2415071</td>\n",
       "      <td>&lt;NA&gt;</td>\n",
       "      <td>2415071</td>\n",
       "      <td>&lt;NA&gt;</td>\n",
       "      <td>&lt;NA&gt;</td>\n",
       "      <td>None</td>\n",
       "      <td>customer with No TSA Account but with Active Loan</td>\n",
       "    </tr>\n",
       "  </tbody>\n",
       "</table>\n",
       "</div>"
      ],
      "text/plain": [
       "      cust_id  customerwithrejectloans  customerwithactiveloans  \\\n",
       "4779  2415158                     <NA>                  2415158   \n",
       "4782  2415107                     <NA>                  2415107   \n",
       "4783  2415160                     <NA>                  2415160   \n",
       "4833  2415202                     <NA>                  2415202   \n",
       "4869  2415071                     <NA>                  2415071   \n",
       "\n",
       "      custwithrejectloanandnotactiveloan  custwithrejectloanandactiveloan  \\\n",
       "4779                                <NA>                             <NA>   \n",
       "4782                                <NA>                             <NA>   \n",
       "4783                                <NA>                             <NA>   \n",
       "4833                                <NA>                             <NA>   \n",
       "4869                                <NA>                             <NA>   \n",
       "\n",
       "     Tsaaccountcustomer                                               desc  \n",
       "4779               None  customer with No TSA Account but with Active Loan  \n",
       "4782               None  customer with No TSA Account but with Active Loan  \n",
       "4783               None  customer with No TSA Account but with Active Loan  \n",
       "4833               None  customer with No TSA Account but with Active Loan  \n",
       "4869               None  customer with No TSA Account but with Active Loan  "
      ]
     },
     "execution_count": 33,
     "metadata": {},
     "output_type": "execute_result"
    }
   ],
   "source": [
    "d['desc']='customer with No TSA Account but with Active Loan'\n",
    "d.head()"
   ]
  },
  {
   "cell_type": "code",
   "execution_count": 34,
   "metadata": {},
   "outputs": [],
   "source": [
    "df7 = d.copy()"
   ]
  },
  {
   "cell_type": "code",
   "execution_count": 35,
   "metadata": {},
   "outputs": [
    {
     "name": "stdout",
     "output_type": "stream",
     "text": [
      "Merged DataFrame Shape: (918358, 7)\n"
     ]
    },
    {
     "data": {
      "text/plain": [
       "desc\n",
       "Customer with TSA Accounts                                       341765\n",
       "Customer With TSA Account, No Active Loan & No Rejected Loan     250865\n",
       "Customer with No TSA Account but with Rejected Loan              228979\n",
       "Customer With TSA Account, with Active Loan, no rejected loan     55174\n",
       "Customer With TSA Account, No Active Loan, has rejected loan      35725\n",
       "customer with No TSA Account but with Active Loan                  5849\n",
       "Customer with TSA Account with Active Loan and Rejected Loan          1\n",
       "Name: count, dtype: int64"
      ]
     },
     "execution_count": 35,
     "metadata": {},
     "output_type": "execute_result"
    }
   ],
   "source": [
    "def fill_empty_columns(main_df, small_df):\n",
    "    extra_cols = set(small_df.columns) - set(main_df.columns)\n",
    "    for col in extra_cols:\n",
    "        main_df[col] = np.nan\n",
    "    return main_df\n",
    "\n",
    "merged_df = pd.concat([df1, df2, df3, df4, df5, df6, df7], ignore_index=False)\n",
    "print(f\"Merged DataFrame Shape: {merged_df.shape}\")\n",
    "merged_df['desc'].value_counts()"
   ]
  },
  {
   "cell_type": "code",
   "execution_count": 36,
   "metadata": {},
   "outputs": [
    {
     "data": {
      "text/plain": [
       "(0, 6)"
      ]
     },
     "execution_count": 36,
     "metadata": {},
     "output_type": "execute_result"
    }
   ],
   "source": [
    "d = df[(df['cust_id'].notna()) \n",
    "       & (df['Tsaaccountcustomer'].isnull()) \n",
    "       &(df['customerwithactiveloans'].notna()) \n",
    "       &(df['customerwithrejectloans'].notna())\n",
    "             ].copy()\n",
    "d.shape"
   ]
  },
  {
   "cell_type": "code",
   "execution_count": 37,
   "metadata": {},
   "outputs": [],
   "source": [
    "merged_df.to_csv(r\"TSA_Account_Description.csv\")"
   ]
  }
 ],
 "metadata": {
  "kernelspec": {
   "display_name": "Python 3",
   "language": "python",
   "name": "python3"
  },
  "language_info": {
   "codemirror_mode": {
    "name": "ipython",
    "version": 3
   },
   "file_extension": ".py",
   "mimetype": "text/x-python",
   "name": "python",
   "nbconvert_exporter": "python",
   "pygments_lexer": "ipython3",
   "version": "3.10.14"
  }
 },
 "nbformat": 4,
 "nbformat_minor": 2
}
