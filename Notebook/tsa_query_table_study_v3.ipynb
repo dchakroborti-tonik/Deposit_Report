{
 "cells": [
  {
   "cell_type": "code",
   "execution_count": 1,
   "metadata": {},
   "outputs": [
    {
     "name": "stderr",
     "output_type": "stream",
     "text": [
      "C:\\Users\\DwaipayanChakroborti\\AppData\\Roaming\\Python\\Python310\\site-packages\\scipy\\__init__.py:146: UserWarning: A NumPy version >=1.16.5 and <1.23.0 is required for this version of SciPy (detected version 1.26.4\n",
      "  warnings.warn(f\"A NumPy version >={np_minversion} and <{np_maxversion}\"\n"
     ]
    }
   ],
   "source": [
    "# %% [markdown]\n",
    "# # Jupyter Notebook Loading Header\n",
    "#\n",
    "# This is a custom loading header for Jupyter Notebooks in Visual Studio Code.\n",
    "# It includes common imports and settings to get you started quickly.\n",
    "\n",
    "# %% [markdown]\n",
    "## Import Libraries\n",
    "import pandas as pd\n",
    "import numpy as np\n",
    "import matplotlib.pyplot as plt\n",
    "import seaborn as sns\n",
    "from google.cloud import bigquery\n",
    "import os\n",
    "path = r'C:\\Users\\DwaipayanChakroborti\\AppData\\Roaming\\gcloud\\legacy_credentials\\dchakroborti@tonikbank.com\\adc.json'\n",
    "os.environ['GOOGLE_APPLICATION_CREDENTIALS'] = path\n",
    "client = bigquery.Client(project='prj-prod-dataplatform')\n",
    "\n",
    "# %% [markdown]\n",
    "## Configure Settings\n",
    "# Set options or configurations as needed\n",
    "# Example: pd.set_option('display.max_columns', None)"
   ]
  },
  {
   "cell_type": "markdown",
   "metadata": {},
   "source": [
    "# Total TSA Distinct Customers in Customer Accounts Table"
   ]
  },
  {
   "cell_type": "code",
   "execution_count": 2,
   "metadata": {},
   "outputs": [
    {
     "name": "stdout",
     "output_type": "stream",
     "text": [
      "Job ID 94b42313-b477-48cb-8623-41350f8d8ac9 successfully executed: |\u001b[32m          \u001b[0m|   \n",
      "Downloading: 100%|\u001b[32m██████████\u001b[0m|\n"
     ]
    },
    {
     "data": {
      "text/html": [
       "<div>\n",
       "<style scoped>\n",
       "    .dataframe tbody tr th:only-of-type {\n",
       "        vertical-align: middle;\n",
       "    }\n",
       "\n",
       "    .dataframe tbody tr th {\n",
       "        vertical-align: top;\n",
       "    }\n",
       "\n",
       "    .dataframe thead th {\n",
       "        text-align: right;\n",
       "    }\n",
       "</style>\n",
       "<table border=\"1\" class=\"dataframe\">\n",
       "  <thead>\n",
       "    <tr style=\"text-align: right;\">\n",
       "      <th></th>\n",
       "      <th>OFCUSTOMERID</th>\n",
       "      <th>Description</th>\n",
       "      <th>Set</th>\n",
       "      <th>Serialno</th>\n",
       "    </tr>\n",
       "  </thead>\n",
       "  <tbody>\n",
       "    <tr>\n",
       "      <th>0</th>\n",
       "      <td>2436327</td>\n",
       "      <td>Total TSA Distinct Customers in Customer Accou...</td>\n",
       "      <td>Overall</td>\n",
       "      <td>1</td>\n",
       "    </tr>\n",
       "    <tr>\n",
       "      <th>1</th>\n",
       "      <td>1461289</td>\n",
       "      <td>Total TSA Distinct Customers in Customer Accou...</td>\n",
       "      <td>Overall</td>\n",
       "      <td>1</td>\n",
       "    </tr>\n",
       "    <tr>\n",
       "      <th>2</th>\n",
       "      <td>1460380</td>\n",
       "      <td>Total TSA Distinct Customers in Customer Accou...</td>\n",
       "      <td>Overall</td>\n",
       "      <td>1</td>\n",
       "    </tr>\n",
       "    <tr>\n",
       "      <th>3</th>\n",
       "      <td>1460011</td>\n",
       "      <td>Total TSA Distinct Customers in Customer Accou...</td>\n",
       "      <td>Overall</td>\n",
       "      <td>1</td>\n",
       "    </tr>\n",
       "    <tr>\n",
       "      <th>4</th>\n",
       "      <td>1460484</td>\n",
       "      <td>Total TSA Distinct Customers in Customer Accou...</td>\n",
       "      <td>Overall</td>\n",
       "      <td>1</td>\n",
       "    </tr>\n",
       "  </tbody>\n",
       "</table>\n",
       "</div>"
      ],
      "text/plain": [
       "  OFCUSTOMERID                                        Description      Set  \\\n",
       "0      2436327  Total TSA Distinct Customers in Customer Accou...  Overall   \n",
       "1      1461289  Total TSA Distinct Customers in Customer Accou...  Overall   \n",
       "2      1460380  Total TSA Distinct Customers in Customer Accou...  Overall   \n",
       "3      1460011  Total TSA Distinct Customers in Customer Accou...  Overall   \n",
       "4      1460484  Total TSA Distinct Customers in Customer Accou...  Overall   \n",
       "\n",
       "   Serialno  \n",
       "0         1  \n",
       "1         1  \n",
       "2         1  \n",
       "3         1  \n",
       "4         1  "
      ]
     },
     "execution_count": 2,
     "metadata": {},
     "output_type": "execute_result"
    }
   ],
   "source": [
    "sq = \"\"\"Select distinct OFCUSTOMERID from `core_raw.customer_accounts` where CRINTERDESC like 'Transactional Savings Account Inv_R';\"\"\"\n",
    "d = client.query(sq).to_dataframe(progress_bar_type='tqdm')\n",
    "d['Description'] = \"Total TSA Distinct Customers in Customer Accounts Table\"\n",
    "d['Set'] = 'Overall'\n",
    "d['Serialno'] = 1\n",
    "d.head()"
   ]
  },
  {
   "cell_type": "code",
   "execution_count": 3,
   "metadata": {},
   "outputs": [],
   "source": [
    "df = d.copy()"
   ]
  },
  {
   "cell_type": "markdown",
   "metadata": {},
   "source": [
    "# TSA Distinct Customer in Customer Accounts Which were closed"
   ]
  },
  {
   "cell_type": "code",
   "execution_count": 4,
   "metadata": {},
   "outputs": [
    {
     "name": "stdout",
     "output_type": "stream",
     "text": [
      "Job ID 88634a57-a5e5-4062-94da-8c60ca769d19 successfully executed: |\u001b[32m          \u001b[0m|\n",
      "Downloading: 100%|\u001b[32m██████████\u001b[0m|\n"
     ]
    },
    {
     "data": {
      "text/html": [
       "<div>\n",
       "<style scoped>\n",
       "    .dataframe tbody tr th:only-of-type {\n",
       "        vertical-align: middle;\n",
       "    }\n",
       "\n",
       "    .dataframe tbody tr th {\n",
       "        vertical-align: top;\n",
       "    }\n",
       "\n",
       "    .dataframe thead th {\n",
       "        text-align: right;\n",
       "    }\n",
       "</style>\n",
       "<table border=\"1\" class=\"dataframe\">\n",
       "  <thead>\n",
       "    <tr style=\"text-align: right;\">\n",
       "      <th></th>\n",
       "      <th>OFCUSTOMERID</th>\n",
       "      <th>Description</th>\n",
       "      <th>Set</th>\n",
       "      <th>Serialno</th>\n",
       "    </tr>\n",
       "  </thead>\n",
       "  <tbody>\n",
       "    <tr>\n",
       "      <th>0</th>\n",
       "      <td>1087354</td>\n",
       "      <td>TSA Distinct Customer in Customer Accounts Whi...</td>\n",
       "      <td>Subset of Set 1</td>\n",
       "      <td>1.1</td>\n",
       "    </tr>\n",
       "    <tr>\n",
       "      <th>1</th>\n",
       "      <td>1391252</td>\n",
       "      <td>TSA Distinct Customer in Customer Accounts Whi...</td>\n",
       "      <td>Subset of Set 1</td>\n",
       "      <td>1.1</td>\n",
       "    </tr>\n",
       "    <tr>\n",
       "      <th>2</th>\n",
       "      <td>1390862</td>\n",
       "      <td>TSA Distinct Customer in Customer Accounts Whi...</td>\n",
       "      <td>Subset of Set 1</td>\n",
       "      <td>1.1</td>\n",
       "    </tr>\n",
       "    <tr>\n",
       "      <th>3</th>\n",
       "      <td>1390965</td>\n",
       "      <td>TSA Distinct Customer in Customer Accounts Whi...</td>\n",
       "      <td>Subset of Set 1</td>\n",
       "      <td>1.1</td>\n",
       "    </tr>\n",
       "    <tr>\n",
       "      <th>4</th>\n",
       "      <td>1391139</td>\n",
       "      <td>TSA Distinct Customer in Customer Accounts Whi...</td>\n",
       "      <td>Subset of Set 1</td>\n",
       "      <td>1.1</td>\n",
       "    </tr>\n",
       "  </tbody>\n",
       "</table>\n",
       "</div>"
      ],
      "text/plain": [
       "  OFCUSTOMERID                                        Description  \\\n",
       "0      1087354  TSA Distinct Customer in Customer Accounts Whi...   \n",
       "1      1391252  TSA Distinct Customer in Customer Accounts Whi...   \n",
       "2      1390862  TSA Distinct Customer in Customer Accounts Whi...   \n",
       "3      1390965  TSA Distinct Customer in Customer Accounts Whi...   \n",
       "4      1391139  TSA Distinct Customer in Customer Accounts Whi...   \n",
       "\n",
       "               Set  Serialno  \n",
       "0  Subset of Set 1       1.1  \n",
       "1  Subset of Set 1       1.1  \n",
       "2  Subset of Set 1       1.1  \n",
       "3  Subset of Set 1       1.1  \n",
       "4  Subset of Set 1       1.1  "
      ]
     },
     "execution_count": 4,
     "metadata": {},
     "output_type": "execute_result"
    }
   ],
   "source": [
    "sq = \"\"\"Select distinct OFCUSTOMERID from `core_raw.customer_accounts` where CRINTERDESC like 'Transactional Savings Account Inv_R' and OFISCLOSED = 'Y';\"\"\"\n",
    "d = client.query(sq).to_dataframe(progress_bar_type='tqdm')\n",
    "d['Description'] = \"TSA Distinct Customer in Customer Accounts Which were closed\"\n",
    "d['Set'] = 'Subset of Set 1'\n",
    "d['Serialno'] = 1.1\n",
    "d.head()"
   ]
  },
  {
   "cell_type": "code",
   "execution_count": 5,
   "metadata": {},
   "outputs": [
    {
     "name": "stdout",
     "output_type": "stream",
     "text": [
      "Merged DataFrame Shape: (2118884, 4)\n"
     ]
    },
    {
     "data": {
      "text/plain": [
       "Description\n",
       "Total TSA Distinct Customers in Customer Accounts Table         1328081\n",
       "TSA Distinct Customer in Customer Accounts Which were closed     790803\n",
       "Name: count, dtype: int64"
      ]
     },
     "execution_count": 5,
     "metadata": {},
     "output_type": "execute_result"
    }
   ],
   "source": [
    "df1 = d.copy()\n",
    "merged_df = pd.concat([df, df1], ignore_index=False)\n",
    "print(f\"Merged DataFrame Shape: {merged_df.shape}\")\n",
    "merged_df['Description'].value_counts()"
   ]
  },
  {
   "cell_type": "markdown",
   "metadata": {},
   "source": [
    "# TSA Distinct Customer in Customer Accounts Which are Open"
   ]
  },
  {
   "cell_type": "code",
   "execution_count": 6,
   "metadata": {},
   "outputs": [
    {
     "name": "stdout",
     "output_type": "stream",
     "text": [
      "Job ID 9031e437-2cf2-4317-b925-210bb099745a successfully executed: |\u001b[32m          \u001b[0m|   \n",
      "Downloading: 100%|\u001b[32m██████████\u001b[0m|\n",
      "The shape of d is \t (537335, 4)\n"
     ]
    },
    {
     "data": {
      "text/html": [
       "<div>\n",
       "<style scoped>\n",
       "    .dataframe tbody tr th:only-of-type {\n",
       "        vertical-align: middle;\n",
       "    }\n",
       "\n",
       "    .dataframe tbody tr th {\n",
       "        vertical-align: top;\n",
       "    }\n",
       "\n",
       "    .dataframe thead th {\n",
       "        text-align: right;\n",
       "    }\n",
       "</style>\n",
       "<table border=\"1\" class=\"dataframe\">\n",
       "  <thead>\n",
       "    <tr style=\"text-align: right;\">\n",
       "      <th></th>\n",
       "      <th>OFCUSTOMERID</th>\n",
       "      <th>Description</th>\n",
       "      <th>Set</th>\n",
       "      <th>Serialno</th>\n",
       "    </tr>\n",
       "  </thead>\n",
       "  <tbody>\n",
       "    <tr>\n",
       "      <th>0</th>\n",
       "      <td>1498746</td>\n",
       "      <td>TSA Distinct Customer in Customer Accounts Whi...</td>\n",
       "      <td>Subset of Set 1</td>\n",
       "      <td>1.2</td>\n",
       "    </tr>\n",
       "    <tr>\n",
       "      <th>1</th>\n",
       "      <td>1499044</td>\n",
       "      <td>TSA Distinct Customer in Customer Accounts Whi...</td>\n",
       "      <td>Subset of Set 1</td>\n",
       "      <td>1.2</td>\n",
       "    </tr>\n",
       "    <tr>\n",
       "      <th>2</th>\n",
       "      <td>1499923</td>\n",
       "      <td>TSA Distinct Customer in Customer Accounts Whi...</td>\n",
       "      <td>Subset of Set 1</td>\n",
       "      <td>1.2</td>\n",
       "    </tr>\n",
       "    <tr>\n",
       "      <th>3</th>\n",
       "      <td>1499491</td>\n",
       "      <td>TSA Distinct Customer in Customer Accounts Whi...</td>\n",
       "      <td>Subset of Set 1</td>\n",
       "      <td>1.2</td>\n",
       "    </tr>\n",
       "    <tr>\n",
       "      <th>4</th>\n",
       "      <td>1501356</td>\n",
       "      <td>TSA Distinct Customer in Customer Accounts Whi...</td>\n",
       "      <td>Subset of Set 1</td>\n",
       "      <td>1.2</td>\n",
       "    </tr>\n",
       "  </tbody>\n",
       "</table>\n",
       "</div>"
      ],
      "text/plain": [
       "  OFCUSTOMERID                                        Description  \\\n",
       "0      1498746  TSA Distinct Customer in Customer Accounts Whi...   \n",
       "1      1499044  TSA Distinct Customer in Customer Accounts Whi...   \n",
       "2      1499923  TSA Distinct Customer in Customer Accounts Whi...   \n",
       "3      1499491  TSA Distinct Customer in Customer Accounts Whi...   \n",
       "4      1501356  TSA Distinct Customer in Customer Accounts Whi...   \n",
       "\n",
       "               Set  Serialno  \n",
       "0  Subset of Set 1       1.2  \n",
       "1  Subset of Set 1       1.2  \n",
       "2  Subset of Set 1       1.2  \n",
       "3  Subset of Set 1       1.2  \n",
       "4  Subset of Set 1       1.2  "
      ]
     },
     "execution_count": 6,
     "metadata": {},
     "output_type": "execute_result"
    }
   ],
   "source": [
    "sq = \"\"\"Select distinct OFCUSTOMERID from `core_raw.customer_accounts` where CRINTERDESC like 'Transactional Savings Account Inv_R' and OFISCLOSED = 'N';\"\"\"\n",
    "d = client.query(sq).to_dataframe(progress_bar_type='tqdm')\n",
    "d['Description'] = \"TSA Distinct Customer in Customer Accounts Which are open\"\n",
    "d['Set'] = 'Subset of Set 1'\n",
    "d['Serialno'] = 1.2\n",
    "print(f\"The shape of d is \\t {d.shape}\")\n",
    "d.head()"
   ]
  },
  {
   "cell_type": "code",
   "execution_count": 7,
   "metadata": {},
   "outputs": [
    {
     "name": "stdout",
     "output_type": "stream",
     "text": [
      "Merged DataFrame Shape: (2656219, 4)\n"
     ]
    },
    {
     "data": {
      "text/plain": [
       "Description\n",
       "Total TSA Distinct Customers in Customer Accounts Table         1328081\n",
       "TSA Distinct Customer in Customer Accounts Which were closed     790803\n",
       "TSA Distinct Customer in Customer Accounts Which are open        537335\n",
       "Name: count, dtype: int64"
      ]
     },
     "execution_count": 7,
     "metadata": {},
     "output_type": "execute_result"
    }
   ],
   "source": [
    "df2 = d.copy()\n",
    "merged_df = pd.concat([df, df1, df2], ignore_index=False)\n",
    "print(f\"Merged DataFrame Shape: {merged_df.shape}\")\n",
    "merged_df['Description'].value_counts()"
   ]
  },
  {
   "cell_type": "markdown",
   "metadata": {},
   "source": [
    "# TSA Distinct customer who have both Closed and Open TSA Accounts"
   ]
  },
  {
   "cell_type": "code",
   "execution_count": 8,
   "metadata": {},
   "outputs": [
    {
     "name": "stdout",
     "output_type": "stream",
     "text": [
      "Job ID ffc424f2-6e46-4317-9f8b-c1bc5f1beac6 successfully executed: 100%|\u001b[32m██████████\u001b[0m|\n",
      "Downloading: 100%|\u001b[32m██████████\u001b[0m|\n",
      "The shape of the d1 is \t (102, 3)\n"
     ]
    }
   ],
   "source": [
    "sq = \"\"\"Select OFCUSTOMERID, count(OFCUSTOMERID) cnt \n",
    ", sum(case when OFISCLOSED = 'Y' then 1\n",
    "           when OFISCLOSED = 'N' then 1\n",
    "           else 0 end) check\n",
    "from `core_raw.customer_accounts` where CRINTERDESC like 'Transactional Savings Account Inv_R'\n",
    "and OFISCLOSED in ('Y', 'N')\n",
    " group by 1 having count(OFCUSTOMERID) > 1;\"\"\"\n",
    " \n",
    "d1 = client.query(sq).to_dataframe(progress_bar_type='tqdm')\n",
    "print(f\"The shape of the d1 is \\t {d1.shape}\")\n",
    "d = d1[['OFCUSTOMERID']].copy()\n",
    "\n"
   ]
  },
  {
   "cell_type": "code",
   "execution_count": 9,
   "metadata": {},
   "outputs": [],
   "source": [
    "df3 = d.copy()"
   ]
  },
  {
   "cell_type": "code",
   "execution_count": 10,
   "metadata": {},
   "outputs": [
    {
     "name": "stdout",
     "output_type": "stream",
     "text": [
      "The shape of df3 is \t (102, 1)\n"
     ]
    },
    {
     "data": {
      "text/html": [
       "<div>\n",
       "<style scoped>\n",
       "    .dataframe tbody tr th:only-of-type {\n",
       "        vertical-align: middle;\n",
       "    }\n",
       "\n",
       "    .dataframe tbody tr th {\n",
       "        vertical-align: top;\n",
       "    }\n",
       "\n",
       "    .dataframe thead th {\n",
       "        text-align: right;\n",
       "    }\n",
       "</style>\n",
       "<table border=\"1\" class=\"dataframe\">\n",
       "  <thead>\n",
       "    <tr style=\"text-align: right;\">\n",
       "      <th></th>\n",
       "      <th>OFCUSTOMERID</th>\n",
       "      <th>Description</th>\n",
       "      <th>Set</th>\n",
       "      <th>Serialno</th>\n",
       "    </tr>\n",
       "  </thead>\n",
       "  <tbody>\n",
       "    <tr>\n",
       "      <th>0</th>\n",
       "      <td>1000177</td>\n",
       "      <td>TSA Distinct customer who have both Closed and...</td>\n",
       "      <td>Subset of Set 1.1 and 1.2</td>\n",
       "      <td>1.3</td>\n",
       "    </tr>\n",
       "    <tr>\n",
       "      <th>1</th>\n",
       "      <td>2162871</td>\n",
       "      <td>TSA Distinct customer who have both Closed and...</td>\n",
       "      <td>Subset of Set 1.1 and 1.2</td>\n",
       "      <td>1.3</td>\n",
       "    </tr>\n",
       "    <tr>\n",
       "      <th>2</th>\n",
       "      <td>1042438</td>\n",
       "      <td>TSA Distinct customer who have both Closed and...</td>\n",
       "      <td>Subset of Set 1.1 and 1.2</td>\n",
       "      <td>1.3</td>\n",
       "    </tr>\n",
       "    <tr>\n",
       "      <th>3</th>\n",
       "      <td>2135598</td>\n",
       "      <td>TSA Distinct customer who have both Closed and...</td>\n",
       "      <td>Subset of Set 1.1 and 1.2</td>\n",
       "      <td>1.3</td>\n",
       "    </tr>\n",
       "    <tr>\n",
       "      <th>4</th>\n",
       "      <td>2209695</td>\n",
       "      <td>TSA Distinct customer who have both Closed and...</td>\n",
       "      <td>Subset of Set 1.1 and 1.2</td>\n",
       "      <td>1.3</td>\n",
       "    </tr>\n",
       "  </tbody>\n",
       "</table>\n",
       "</div>"
      ],
      "text/plain": [
       "  OFCUSTOMERID                                        Description  \\\n",
       "0      1000177  TSA Distinct customer who have both Closed and...   \n",
       "1      2162871  TSA Distinct customer who have both Closed and...   \n",
       "2      1042438  TSA Distinct customer who have both Closed and...   \n",
       "3      2135598  TSA Distinct customer who have both Closed and...   \n",
       "4      2209695  TSA Distinct customer who have both Closed and...   \n",
       "\n",
       "                         Set  Serialno  \n",
       "0  Subset of Set 1.1 and 1.2       1.3  \n",
       "1  Subset of Set 1.1 and 1.2       1.3  \n",
       "2  Subset of Set 1.1 and 1.2       1.3  \n",
       "3  Subset of Set 1.1 and 1.2       1.3  \n",
       "4  Subset of Set 1.1 and 1.2       1.3  "
      ]
     },
     "execution_count": 10,
     "metadata": {},
     "output_type": "execute_result"
    }
   ],
   "source": [
    "df3['Description'] = \"TSA Distinct customer who have both Closed and Open TSA Accounts\"\n",
    "df3['Set'] = 'Subset of Set 1.1 and 1.2'\n",
    "df3['Serialno'] = 1.3\n",
    "print(f\"The shape of df3 is \\t {d.shape}\")\n",
    "df3.head()"
   ]
  },
  {
   "cell_type": "code",
   "execution_count": 11,
   "metadata": {},
   "outputs": [
    {
     "name": "stdout",
     "output_type": "stream",
     "text": [
      "Merged DataFrame Shape: (2656321, 4)\n"
     ]
    },
    {
     "data": {
      "text/plain": [
       "Description\n",
       "Total TSA Distinct Customers in Customer Accounts Table             1328081\n",
       "TSA Distinct Customer in Customer Accounts Which were closed         790803\n",
       "TSA Distinct Customer in Customer Accounts Which are open            537335\n",
       "TSA Distinct customer who have both Closed and Open TSA Accounts        102\n",
       "Name: count, dtype: int64"
      ]
     },
     "execution_count": 11,
     "metadata": {},
     "output_type": "execute_result"
    }
   ],
   "source": [
    "merged_df = pd.concat([df, df1, df2, df3], ignore_index=False)\n",
    "print(f\"Merged DataFrame Shape: {merged_df.shape}\")\n",
    "merged_df['Description'].value_counts()"
   ]
  },
  {
   "cell_type": "code",
   "execution_count": 12,
   "metadata": {},
   "outputs": [],
   "source": [
    "sq = \"\"\"select OFCUSTOMERID, OFSTANDARDACCOUNTID,  OFPRODUCTCATEGORY , OFISCLOSED, CRINTERDESC , OFDATEOPENED, OFDATECLOSED , OFCLEAREDBALANCE from `core_raw.customer_accounts`  where OFCUSTOMERID in \n",
    "(select OFCUSTOMERID from (\n",
    "Select OFCUSTOMERID, count(OFCUSTOMERID) cnt \n",
    ", sum(case when OFISCLOSED = 'Y' then 1\n",
    "           when OFISCLOSED = 'N' then 1\n",
    "           else 0 end) check\n",
    "from `core_raw.customer_accounts` where CRINTERDESC like 'Transactional Savings Account Inv_R'\n",
    "and OFISCLOSED in ('Y', 'N')\n",
    " group by 1 having count(OFCUSTOMERID) > 1\n",
    "))\n",
    "and CRINTERDESC like 'Transactional Savings Account Inv_R'\n",
    "order by 1, 4;\"\"\"\n",
    "\n",
    "d1 = client.query(sq).to_dataframe()\n",
    "d1.to_csv(r\"Customerwithopenandclosedaccounts.csv\", index = False)"
   ]
  },
  {
   "cell_type": "code",
   "execution_count": 13,
   "metadata": {},
   "outputs": [
    {
     "data": {
      "text/plain": [
       "Description                                                       Set                        Serialno\n",
       "Total TSA Distinct Customers in Customer Accounts Table           Overall                    1.0         1328081\n",
       "TSA Distinct Customer in Customer Accounts Which were closed      Subset of Set 1            1.1          790803\n",
       "TSA Distinct Customer in Customer Accounts Which are open         Subset of Set 1            1.2          537335\n",
       "TSA Distinct customer who have both Closed and Open TSA Accounts  Subset of Set 1.1 and 1.2  1.3             102\n",
       "Name: OFCUSTOMERID, dtype: int64"
      ]
     },
     "execution_count": 13,
     "metadata": {},
     "output_type": "execute_result"
    }
   ],
   "source": [
    "md = merged_df.sort_values(by='Serialno')\n",
    "# Sort by 'Serialno' within each group\n",
    "md = md.groupby(['Description', 'Set', 'Serialno'])['OFCUSTOMERID'].count().sort_values(ascending=False)\n",
    "md"
   ]
  },
  {
   "cell_type": "code",
   "execution_count": null,
   "metadata": {},
   "outputs": [],
   "source": []
  }
 ],
 "metadata": {
  "kernelspec": {
   "display_name": "Python 3",
   "language": "python",
   "name": "python3"
  },
  "language_info": {
   "codemirror_mode": {
    "name": "ipython",
    "version": 3
   },
   "file_extension": ".py",
   "mimetype": "text/x-python",
   "name": "python",
   "nbconvert_exporter": "python",
   "pygments_lexer": "ipython3",
   "version": "3.10.14"
  }
 },
 "nbformat": 4,
 "nbformat_minor": 2
}
