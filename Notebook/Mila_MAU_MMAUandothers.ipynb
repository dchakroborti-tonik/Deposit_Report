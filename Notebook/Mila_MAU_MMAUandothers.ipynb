{
 "cells": [
  {
   "cell_type": "code",
   "execution_count": 1,
   "metadata": {},
   "outputs": [
    {
     "name": "stderr",
     "output_type": "stream",
     "text": [
      "C:\\Users\\DwaipayanChakroborti\\AppData\\Roaming\\Python\\Python310\\site-packages\\scipy\\__init__.py:146: UserWarning: A NumPy version >=1.16.5 and <1.23.0 is required for this version of SciPy (detected version 1.26.4\n",
      "  warnings.warn(f\"A NumPy version >={np_minversion} and <{np_maxversion}\"\n"
     ]
    }
   ],
   "source": [
    "# %% [markdown]\n",
    "# # Jupyter Notebook Loading Header\n",
    "#\n",
    "# This is a custom loading header for Jupyter Notebooks in Visual Studio Code.\n",
    "# It includes common imports and settings to get you started quickly.\n",
    "\n",
    "# %% [markdown]\n",
    "## Import Libraries\n",
    "import pandas as pd\n",
    "import numpy as np\n",
    "import matplotlib.pyplot as plt\n",
    "import seaborn as sns\n",
    "from google.cloud import bigquery\n",
    "import os\n",
    "path = r'C:\\Users\\DwaipayanChakroborti\\AppData\\Roaming\\gcloud\\legacy_credentials\\dchakroborti@tonikbank.com\\adc.json'\n",
    "os.environ['GOOGLE_APPLICATION_CREDENTIALS'] = path\n",
    "client = bigquery.Client(project='prj-prod-dataplatform')\n",
    "\n",
    "# %% [markdown]\n",
    "## Configure Settings\n",
    "# Set options or configurations as needed\n",
    "# Example: pd.set_option('display.max_columns', None)"
   ]
  },
  {
   "cell_type": "markdown",
   "metadata": {},
   "source": [
    "# Total Customers Count"
   ]
  },
  {
   "cell_type": "code",
   "execution_count": 2,
   "metadata": {},
   "outputs": [
    {
     "name": "stdout",
     "output_type": "stream",
     "text": [
      "Job ID 447a9733-dcda-436f-b4ad-80c1f28c1d01 successfully executed: 100%|\u001b[32m██████████\u001b[0m|\n",
      "Downloading: 100%|\u001b[32m██████████\u001b[0m|\n"
     ]
    },
    {
     "data": {
      "text/html": [
       "<div>\n",
       "<style scoped>\n",
       "    .dataframe tbody tr th:only-of-type {\n",
       "        vertical-align: middle;\n",
       "    }\n",
       "\n",
       "    .dataframe tbody tr th {\n",
       "        vertical-align: top;\n",
       "    }\n",
       "\n",
       "    .dataframe thead th {\n",
       "        text-align: right;\n",
       "    }\n",
       "</style>\n",
       "<table border=\"1\" class=\"dataframe\">\n",
       "  <thead>\n",
       "    <tr style=\"text-align: right;\">\n",
       "      <th></th>\n",
       "      <th>cust_id</th>\n",
       "      <th>Description</th>\n",
       "      <th>Set</th>\n",
       "      <th>Serialno</th>\n",
       "    </tr>\n",
       "  </thead>\n",
       "  <tbody>\n",
       "    <tr>\n",
       "      <th>0</th>\n",
       "      <td>1087481</td>\n",
       "      <td>Total Distinct Registered Customer</td>\n",
       "      <td>Overall</td>\n",
       "      <td>1.0</td>\n",
       "    </tr>\n",
       "    <tr>\n",
       "      <th>1</th>\n",
       "      <td>1391402</td>\n",
       "      <td>Total Distinct Registered Customer</td>\n",
       "      <td>Overall</td>\n",
       "      <td>1.0</td>\n",
       "    </tr>\n",
       "    <tr>\n",
       "      <th>2</th>\n",
       "      <td>1391437</td>\n",
       "      <td>Total Distinct Registered Customer</td>\n",
       "      <td>Overall</td>\n",
       "      <td>1.0</td>\n",
       "    </tr>\n",
       "    <tr>\n",
       "      <th>3</th>\n",
       "      <td>1390518</td>\n",
       "      <td>Total Distinct Registered Customer</td>\n",
       "      <td>Overall</td>\n",
       "      <td>1.0</td>\n",
       "    </tr>\n",
       "    <tr>\n",
       "      <th>4</th>\n",
       "      <td>1390381</td>\n",
       "      <td>Total Distinct Registered Customer</td>\n",
       "      <td>Overall</td>\n",
       "      <td>1.0</td>\n",
       "    </tr>\n",
       "  </tbody>\n",
       "</table>\n",
       "</div>"
      ],
      "text/plain": [
       "   cust_id                         Description      Set Serialno\n",
       "0  1087481  Total Distinct Registered Customer  Overall      1.0\n",
       "1  1391402  Total Distinct Registered Customer  Overall      1.0\n",
       "2  1391437  Total Distinct Registered Customer  Overall      1.0\n",
       "3  1390518  Total Distinct Registered Customer  Overall      1.0\n",
       "4  1390381  Total Distinct Registered Customer  Overall      1.0"
      ]
     },
     "execution_count": 2,
     "metadata": {},
     "output_type": "execute_result"
    }
   ],
   "source": [
    "sq = \"\"\"select distinct cust_id from prj-prod-dataplatform.dl_customers_db_raw.tdbk_customer_mtb where cust_id is not null;\"\"\"\n",
    "d = client.query(sq).to_dataframe(progress_bar_type='tqdm')\n",
    "d['Description'] = \"Total Distinct Registered Customer\"\n",
    "d['Set'] = 'Overall'\n",
    "d['Serialno'] = '1.0'\n",
    "d.head()\n"
   ]
  },
  {
   "cell_type": "code",
   "execution_count": 3,
   "metadata": {},
   "outputs": [],
   "source": [
    "d.rename(columns= {'cust_id':'OFCUSTOMERID'}, inplace = True)"
   ]
  },
  {
   "cell_type": "markdown",
   "metadata": {},
   "source": [
    "# Total TSA Distinct Customer in Customer Account and Customer MTB table"
   ]
  },
  {
   "cell_type": "code",
   "execution_count": 4,
   "metadata": {},
   "outputs": [
    {
     "name": "stdout",
     "output_type": "stream",
     "text": [
      "Job ID 4a516b8e-640f-487a-88a8-b92f6706e227 successfully executed: 100%|\u001b[32m██████████\u001b[0m|\n",
      "Downloading: 100%|\u001b[32m██████████\u001b[0m|\n"
     ]
    },
    {
     "data": {
      "text/html": [
       "<div>\n",
       "<style scoped>\n",
       "    .dataframe tbody tr th:only-of-type {\n",
       "        vertical-align: middle;\n",
       "    }\n",
       "\n",
       "    .dataframe tbody tr th {\n",
       "        vertical-align: top;\n",
       "    }\n",
       "\n",
       "    .dataframe thead th {\n",
       "        text-align: right;\n",
       "    }\n",
       "</style>\n",
       "<table border=\"1\" class=\"dataframe\">\n",
       "  <thead>\n",
       "    <tr style=\"text-align: right;\">\n",
       "      <th></th>\n",
       "      <th>OFCUSTOMERID</th>\n",
       "      <th>Description</th>\n",
       "      <th>Set</th>\n",
       "      <th>Serialno</th>\n",
       "    </tr>\n",
       "  </thead>\n",
       "  <tbody>\n",
       "    <tr>\n",
       "      <th>0</th>\n",
       "      <td>2006727</td>\n",
       "      <td>Total TSA Customer Ever Registered</td>\n",
       "      <td>Subset of 1.0</td>\n",
       "      <td>1.1</td>\n",
       "    </tr>\n",
       "    <tr>\n",
       "      <th>1</th>\n",
       "      <td>2007330</td>\n",
       "      <td>Total TSA Customer Ever Registered</td>\n",
       "      <td>Subset of 1.0</td>\n",
       "      <td>1.1</td>\n",
       "    </tr>\n",
       "    <tr>\n",
       "      <th>2</th>\n",
       "      <td>2007196</td>\n",
       "      <td>Total TSA Customer Ever Registered</td>\n",
       "      <td>Subset of 1.0</td>\n",
       "      <td>1.1</td>\n",
       "    </tr>\n",
       "    <tr>\n",
       "      <th>3</th>\n",
       "      <td>2006465</td>\n",
       "      <td>Total TSA Customer Ever Registered</td>\n",
       "      <td>Subset of 1.0</td>\n",
       "      <td>1.1</td>\n",
       "    </tr>\n",
       "    <tr>\n",
       "      <th>4</th>\n",
       "      <td>2007635</td>\n",
       "      <td>Total TSA Customer Ever Registered</td>\n",
       "      <td>Subset of 1.0</td>\n",
       "      <td>1.1</td>\n",
       "    </tr>\n",
       "  </tbody>\n",
       "</table>\n",
       "</div>"
      ],
      "text/plain": [
       "  OFCUSTOMERID                         Description            Set Serialno\n",
       "0      2006727  Total TSA Customer Ever Registered  Subset of 1.0      1.1\n",
       "1      2007330  Total TSA Customer Ever Registered  Subset of 1.0      1.1\n",
       "2      2007196  Total TSA Customer Ever Registered  Subset of 1.0      1.1\n",
       "3      2006465  Total TSA Customer Ever Registered  Subset of 1.0      1.1\n",
       "4      2007635  Total TSA Customer Ever Registered  Subset of 1.0      1.1"
      ]
     },
     "execution_count": 4,
     "metadata": {},
     "output_type": "execute_result"
    }
   ],
   "source": [
    "sq = \"\"\"Select distinct OFCUSTOMERID from `core_raw.customer_accounts` where CRINTERDESC like 'Transactional Savings Account Inv_R' \n",
    "                and OFCUSTOMERID in (select distinct cust_id from prj-prod-dataplatform.dl_customers_db_raw.tdbk_customer_mtb where cust_id is not null);\"\"\"\n",
    "d1 = client.query(sq).to_dataframe(progress_bar_type='tqdm')\n",
    "d1['Description'] = \"Total TSA Customer Ever Registered\"\n",
    "d1['Set'] = 'Subset of 1.0'\n",
    "d1['Serialno'] = '1.1'\n",
    "d1.head()"
   ]
  },
  {
   "cell_type": "code",
   "execution_count": 5,
   "metadata": {},
   "outputs": [
    {
     "name": "stdout",
     "output_type": "stream",
     "text": [
      "Merged DataFrame Shape: (2808442, 4)\n"
     ]
    },
    {
     "data": {
      "text/plain": [
       "Description\n",
       "Total Distinct Registered Customer    1478585\n",
       "Total TSA Customer Ever Registered    1329857\n",
       "Name: count, dtype: int64"
      ]
     },
     "execution_count": 5,
     "metadata": {},
     "output_type": "execute_result"
    }
   ],
   "source": [
    "merged_df = pd.concat([d, d1], ignore_index=False)\n",
    "print(f\"Merged DataFrame Shape: {merged_df.shape}\")\n",
    "merged_df['Description'].value_counts()"
   ]
  },
  {
   "cell_type": "code",
   "execution_count": 6,
   "metadata": {},
   "outputs": [
    {
     "data": {
      "text/html": [
       "<div>\n",
       "<style scoped>\n",
       "    .dataframe tbody tr th:only-of-type {\n",
       "        vertical-align: middle;\n",
       "    }\n",
       "\n",
       "    .dataframe tbody tr th {\n",
       "        vertical-align: top;\n",
       "    }\n",
       "\n",
       "    .dataframe thead th {\n",
       "        text-align: right;\n",
       "    }\n",
       "</style>\n",
       "<table border=\"1\" class=\"dataframe\">\n",
       "  <thead>\n",
       "    <tr style=\"text-align: right;\">\n",
       "      <th></th>\n",
       "      <th>Description</th>\n",
       "      <th>Set</th>\n",
       "      <th>Serialno</th>\n",
       "      <th>OFCUSTOMERID</th>\n",
       "    </tr>\n",
       "  </thead>\n",
       "  <tbody>\n",
       "    <tr>\n",
       "      <th>0</th>\n",
       "      <td>Total Distinct Registered Customer</td>\n",
       "      <td>Overall</td>\n",
       "      <td>1.0</td>\n",
       "      <td>1478585</td>\n",
       "    </tr>\n",
       "    <tr>\n",
       "      <th>1</th>\n",
       "      <td>Total TSA Customer Ever Registered</td>\n",
       "      <td>Subset of 1.0</td>\n",
       "      <td>1.1</td>\n",
       "      <td>1329857</td>\n",
       "    </tr>\n",
       "  </tbody>\n",
       "</table>\n",
       "</div>"
      ],
      "text/plain": [
       "                          Description            Set Serialno  OFCUSTOMERID\n",
       "0  Total Distinct Registered Customer        Overall      1.0       1478585\n",
       "1  Total TSA Customer Ever Registered  Subset of 1.0      1.1       1329857"
      ]
     },
     "execution_count": 6,
     "metadata": {},
     "output_type": "execute_result"
    }
   ],
   "source": [
    "sorted_counts = merged_df.groupby(['Description', 'Set', 'Serialno'])['OFCUSTOMERID'].nunique().reset_index()\n",
    "sorted_counts_sorted = sorted_counts.sort_values(by='Serialno')\n",
    "sorted_counts_sorted\n"
   ]
  },
  {
   "cell_type": "markdown",
   "metadata": {},
   "source": [
    "# Total Registered Customer who do not have TSA Account"
   ]
  },
  {
   "cell_type": "code",
   "execution_count": 7,
   "metadata": {},
   "outputs": [
    {
     "name": "stdout",
     "output_type": "stream",
     "text": [
      "Job ID 267f5365-6216-4c3e-9180-077ed58b301d successfully executed: |\u001b[32m          \u001b[0m|   \n",
      "Downloading: 100%|\u001b[32m██████████\u001b[0m|\n"
     ]
    },
    {
     "data": {
      "text/html": [
       "<div>\n",
       "<style scoped>\n",
       "    .dataframe tbody tr th:only-of-type {\n",
       "        vertical-align: middle;\n",
       "    }\n",
       "\n",
       "    .dataframe tbody tr th {\n",
       "        vertical-align: top;\n",
       "    }\n",
       "\n",
       "    .dataframe thead th {\n",
       "        text-align: right;\n",
       "    }\n",
       "</style>\n",
       "<table border=\"1\" class=\"dataframe\">\n",
       "  <thead>\n",
       "    <tr style=\"text-align: right;\">\n",
       "      <th></th>\n",
       "      <th>cust_id</th>\n",
       "      <th>Description</th>\n",
       "      <th>Set</th>\n",
       "      <th>Serialno</th>\n",
       "    </tr>\n",
       "  </thead>\n",
       "  <tbody>\n",
       "    <tr>\n",
       "      <th>0</th>\n",
       "      <td>2134751</td>\n",
       "      <td>Total Customer Ever Registered But Not Opened ...</td>\n",
       "      <td>Subset of 1.0</td>\n",
       "      <td>1.2</td>\n",
       "    </tr>\n",
       "    <tr>\n",
       "      <th>1</th>\n",
       "      <td>2134902</td>\n",
       "      <td>Total Customer Ever Registered But Not Opened ...</td>\n",
       "      <td>Subset of 1.0</td>\n",
       "      <td>1.2</td>\n",
       "    </tr>\n",
       "    <tr>\n",
       "      <th>2</th>\n",
       "      <td>2135461</td>\n",
       "      <td>Total Customer Ever Registered But Not Opened ...</td>\n",
       "      <td>Subset of 1.0</td>\n",
       "      <td>1.2</td>\n",
       "    </tr>\n",
       "    <tr>\n",
       "      <th>3</th>\n",
       "      <td>2135420</td>\n",
       "      <td>Total Customer Ever Registered But Not Opened ...</td>\n",
       "      <td>Subset of 1.0</td>\n",
       "      <td>1.2</td>\n",
       "    </tr>\n",
       "    <tr>\n",
       "      <th>4</th>\n",
       "      <td>2316558</td>\n",
       "      <td>Total Customer Ever Registered But Not Opened ...</td>\n",
       "      <td>Subset of 1.0</td>\n",
       "      <td>1.2</td>\n",
       "    </tr>\n",
       "  </tbody>\n",
       "</table>\n",
       "</div>"
      ],
      "text/plain": [
       "   cust_id                                        Description            Set  \\\n",
       "0  2134751  Total Customer Ever Registered But Not Opened ...  Subset of 1.0   \n",
       "1  2134902  Total Customer Ever Registered But Not Opened ...  Subset of 1.0   \n",
       "2  2135461  Total Customer Ever Registered But Not Opened ...  Subset of 1.0   \n",
       "3  2135420  Total Customer Ever Registered But Not Opened ...  Subset of 1.0   \n",
       "4  2316558  Total Customer Ever Registered But Not Opened ...  Subset of 1.0   \n",
       "\n",
       "  Serialno  \n",
       "0      1.2  \n",
       "1      1.2  \n",
       "2      1.2  \n",
       "3      1.2  \n",
       "4      1.2  "
      ]
     },
     "execution_count": 7,
     "metadata": {},
     "output_type": "execute_result"
    }
   ],
   "source": [
    "sq = \"\"\"select distinct cust_id from prj-prod-dataplatform.dl_customers_db_raw.tdbk_customer_mtb where cust_id is not null\n",
    "and cust_id not in (Select distinct OFCUSTOMERID from `core_raw.customer_accounts` where CRINTERDESC like 'Transactional Savings Account Inv_R');\"\"\"\n",
    "d2 = client.query(sq).to_dataframe(progress_bar_type='tqdm')\n",
    "d2['Description'] = \"Total Customer Ever Registered But Not Opened TSA Account\"\n",
    "d2['Set'] = 'Subset of 1.0'\n",
    "d2['Serialno'] = '1.2'\n",
    "d2.head()"
   ]
  },
  {
   "cell_type": "code",
   "execution_count": 8,
   "metadata": {},
   "outputs": [],
   "source": [
    "d2.rename(columns= {'cust_id':'OFCUSTOMERID'}, inplace = True)"
   ]
  },
  {
   "cell_type": "code",
   "execution_count": 9,
   "metadata": {},
   "outputs": [
    {
     "name": "stdout",
     "output_type": "stream",
     "text": [
      "Merged DataFrame Shape: (2957170, 4)\n"
     ]
    },
    {
     "data": {
      "text/plain": [
       "Description\n",
       "Total Distinct Registered Customer                           1478585\n",
       "Total TSA Customer Ever Registered                           1329857\n",
       "Total Customer Ever Registered But Not Opened TSA Account     148728\n",
       "Name: count, dtype: int64"
      ]
     },
     "execution_count": 9,
     "metadata": {},
     "output_type": "execute_result"
    }
   ],
   "source": [
    "merged_df = pd.concat([d, d1, d2], ignore_index=False)\n",
    "print(f\"Merged DataFrame Shape: {merged_df.shape}\")\n",
    "merged_df['Description'].value_counts()"
   ]
  },
  {
   "cell_type": "code",
   "execution_count": 10,
   "metadata": {},
   "outputs": [
    {
     "data": {
      "text/html": [
       "<div>\n",
       "<style scoped>\n",
       "    .dataframe tbody tr th:only-of-type {\n",
       "        vertical-align: middle;\n",
       "    }\n",
       "\n",
       "    .dataframe tbody tr th {\n",
       "        vertical-align: top;\n",
       "    }\n",
       "\n",
       "    .dataframe thead th {\n",
       "        text-align: right;\n",
       "    }\n",
       "</style>\n",
       "<table border=\"1\" class=\"dataframe\">\n",
       "  <thead>\n",
       "    <tr style=\"text-align: right;\">\n",
       "      <th></th>\n",
       "      <th>Description</th>\n",
       "      <th>Set</th>\n",
       "      <th>Serialno</th>\n",
       "      <th>OFCUSTOMERID</th>\n",
       "    </tr>\n",
       "  </thead>\n",
       "  <tbody>\n",
       "    <tr>\n",
       "      <th>1</th>\n",
       "      <td>Total Distinct Registered Customer</td>\n",
       "      <td>Overall</td>\n",
       "      <td>1.0</td>\n",
       "      <td>1478585</td>\n",
       "    </tr>\n",
       "    <tr>\n",
       "      <th>2</th>\n",
       "      <td>Total TSA Customer Ever Registered</td>\n",
       "      <td>Subset of 1.0</td>\n",
       "      <td>1.1</td>\n",
       "      <td>1329857</td>\n",
       "    </tr>\n",
       "    <tr>\n",
       "      <th>0</th>\n",
       "      <td>Total Customer Ever Registered But Not Opened ...</td>\n",
       "      <td>Subset of 1.0</td>\n",
       "      <td>1.2</td>\n",
       "      <td>148728</td>\n",
       "    </tr>\n",
       "  </tbody>\n",
       "</table>\n",
       "</div>"
      ],
      "text/plain": [
       "                                         Description            Set Serialno  \\\n",
       "1                 Total Distinct Registered Customer        Overall      1.0   \n",
       "2                 Total TSA Customer Ever Registered  Subset of 1.0      1.1   \n",
       "0  Total Customer Ever Registered But Not Opened ...  Subset of 1.0      1.2   \n",
       "\n",
       "   OFCUSTOMERID  \n",
       "1       1478585  \n",
       "2       1329857  \n",
       "0        148728  "
      ]
     },
     "execution_count": 10,
     "metadata": {},
     "output_type": "execute_result"
    }
   ],
   "source": [
    "sorted_counts = merged_df.groupby(['Description', 'Set', 'Serialno'])['OFCUSTOMERID'].nunique().reset_index()\n",
    "sorted_counts_sorted = sorted_counts.sort_values(by='Serialno')\n",
    "sorted_counts_sorted\n"
   ]
  },
  {
   "cell_type": "markdown",
   "metadata": {},
   "source": [
    "# TSA Customer Account Not found in Customer MTB table"
   ]
  },
  {
   "cell_type": "code",
   "execution_count": 11,
   "metadata": {},
   "outputs": [
    {
     "name": "stdout",
     "output_type": "stream",
     "text": [
      "Job ID a0fdbb88-c253-4819-bf5e-3a17117bccbf successfully executed: 100%|\u001b[32m██████████\u001b[0m|\n",
      "Downloading: 100%|\u001b[32m██████████\u001b[0m|\n"
     ]
    },
    {
     "data": {
      "text/html": [
       "<div>\n",
       "<style scoped>\n",
       "    .dataframe tbody tr th:only-of-type {\n",
       "        vertical-align: middle;\n",
       "    }\n",
       "\n",
       "    .dataframe tbody tr th {\n",
       "        vertical-align: top;\n",
       "    }\n",
       "\n",
       "    .dataframe thead th {\n",
       "        text-align: right;\n",
       "    }\n",
       "</style>\n",
       "<table border=\"1\" class=\"dataframe\">\n",
       "  <thead>\n",
       "    <tr style=\"text-align: right;\">\n",
       "      <th></th>\n",
       "      <th>OFCUSTOMERID</th>\n",
       "      <th>Description</th>\n",
       "      <th>Set</th>\n",
       "      <th>Serialno</th>\n",
       "    </tr>\n",
       "  </thead>\n",
       "  <tbody>\n",
       "    <tr>\n",
       "      <th>0</th>\n",
       "      <td>2066716</td>\n",
       "      <td>Total TSA Customer Ever Opened TSA Account but...</td>\n",
       "      <td>Subset of 1</td>\n",
       "      <td>1.3</td>\n",
       "    </tr>\n",
       "    <tr>\n",
       "      <th>1</th>\n",
       "      <td>2478955</td>\n",
       "      <td>Total TSA Customer Ever Opened TSA Account but...</td>\n",
       "      <td>Subset of 1</td>\n",
       "      <td>1.3</td>\n",
       "    </tr>\n",
       "    <tr>\n",
       "      <th>2</th>\n",
       "      <td>2478961</td>\n",
       "      <td>Total TSA Customer Ever Opened TSA Account but...</td>\n",
       "      <td>Subset of 1</td>\n",
       "      <td>1.3</td>\n",
       "    </tr>\n",
       "    <tr>\n",
       "      <th>3</th>\n",
       "      <td>1068061</td>\n",
       "      <td>Total TSA Customer Ever Opened TSA Account but...</td>\n",
       "      <td>Subset of 1</td>\n",
       "      <td>1.3</td>\n",
       "    </tr>\n",
       "    <tr>\n",
       "      <th>4</th>\n",
       "      <td>2478952</td>\n",
       "      <td>Total TSA Customer Ever Opened TSA Account but...</td>\n",
       "      <td>Subset of 1</td>\n",
       "      <td>1.3</td>\n",
       "    </tr>\n",
       "  </tbody>\n",
       "</table>\n",
       "</div>"
      ],
      "text/plain": [
       "  OFCUSTOMERID                                        Description  \\\n",
       "0      2066716  Total TSA Customer Ever Opened TSA Account but...   \n",
       "1      2478955  Total TSA Customer Ever Opened TSA Account but...   \n",
       "2      2478961  Total TSA Customer Ever Opened TSA Account but...   \n",
       "3      1068061  Total TSA Customer Ever Opened TSA Account but...   \n",
       "4      2478952  Total TSA Customer Ever Opened TSA Account but...   \n",
       "\n",
       "           Set Serialno  \n",
       "0  Subset of 1      1.3  \n",
       "1  Subset of 1      1.3  \n",
       "2  Subset of 1      1.3  \n",
       "3  Subset of 1      1.3  \n",
       "4  Subset of 1      1.3  "
      ]
     },
     "execution_count": 11,
     "metadata": {},
     "output_type": "execute_result"
    }
   ],
   "source": [
    "sq = \"\"\"Select distinct OFCUSTOMERID from `core_raw.customer_accounts` where CRINTERDESC like 'Transactional Savings Account Inv_R'\n",
    "and OFCUSTOMERID not in (select distinct cust_id from prj-prod-dataplatform.dl_customers_db_raw.tdbk_customer_mtb where cust_id is not null);\"\"\"\n",
    "d3 = client.query(sq).to_dataframe(progress_bar_type='tqdm')\n",
    "d3['Description'] = \"Total TSA Customer Ever Opened TSA Account but not registered\"\n",
    "d3['Set'] = 'Subset of 1'\n",
    "d3['Serialno'] = '1.3'\n",
    "d3.head()"
   ]
  },
  {
   "cell_type": "code",
   "execution_count": 12,
   "metadata": {},
   "outputs": [
    {
     "name": "stdout",
     "output_type": "stream",
     "text": [
      "Merged DataFrame Shape: (2957181, 4)\n"
     ]
    },
    {
     "data": {
      "text/plain": [
       "Description\n",
       "Total Distinct Registered Customer                               1478585\n",
       "Total TSA Customer Ever Registered                               1329857\n",
       "Total Customer Ever Registered But Not Opened TSA Account         148728\n",
       "Total TSA Customer Ever Opened TSA Account but not registered         11\n",
       "Name: count, dtype: int64"
      ]
     },
     "execution_count": 12,
     "metadata": {},
     "output_type": "execute_result"
    }
   ],
   "source": [
    "merged_df = pd.concat([d, d1, d2, d3], ignore_index=False)\n",
    "print(f\"Merged DataFrame Shape: {merged_df.shape}\")\n",
    "merged_df['Description'].value_counts()"
   ]
  },
  {
   "cell_type": "code",
   "execution_count": 13,
   "metadata": {},
   "outputs": [
    {
     "data": {
      "text/html": [
       "<div>\n",
       "<style scoped>\n",
       "    .dataframe tbody tr th:only-of-type {\n",
       "        vertical-align: middle;\n",
       "    }\n",
       "\n",
       "    .dataframe tbody tr th {\n",
       "        vertical-align: top;\n",
       "    }\n",
       "\n",
       "    .dataframe thead th {\n",
       "        text-align: right;\n",
       "    }\n",
       "</style>\n",
       "<table border=\"1\" class=\"dataframe\">\n",
       "  <thead>\n",
       "    <tr style=\"text-align: right;\">\n",
       "      <th></th>\n",
       "      <th>Description</th>\n",
       "      <th>Set</th>\n",
       "      <th>Serialno</th>\n",
       "      <th>OFCUSTOMERID</th>\n",
       "    </tr>\n",
       "  </thead>\n",
       "  <tbody>\n",
       "    <tr>\n",
       "      <th>1</th>\n",
       "      <td>Total Distinct Registered Customer</td>\n",
       "      <td>Overall</td>\n",
       "      <td>1.0</td>\n",
       "      <td>1478585</td>\n",
       "    </tr>\n",
       "    <tr>\n",
       "      <th>3</th>\n",
       "      <td>Total TSA Customer Ever Registered</td>\n",
       "      <td>Subset of 1.0</td>\n",
       "      <td>1.1</td>\n",
       "      <td>1329857</td>\n",
       "    </tr>\n",
       "    <tr>\n",
       "      <th>0</th>\n",
       "      <td>Total Customer Ever Registered But Not Opened ...</td>\n",
       "      <td>Subset of 1.0</td>\n",
       "      <td>1.2</td>\n",
       "      <td>148728</td>\n",
       "    </tr>\n",
       "    <tr>\n",
       "      <th>2</th>\n",
       "      <td>Total TSA Customer Ever Opened TSA Account but...</td>\n",
       "      <td>Subset of 1</td>\n",
       "      <td>1.3</td>\n",
       "      <td>11</td>\n",
       "    </tr>\n",
       "  </tbody>\n",
       "</table>\n",
       "</div>"
      ],
      "text/plain": [
       "                                         Description            Set Serialno  \\\n",
       "1                 Total Distinct Registered Customer        Overall      1.0   \n",
       "3                 Total TSA Customer Ever Registered  Subset of 1.0      1.1   \n",
       "0  Total Customer Ever Registered But Not Opened ...  Subset of 1.0      1.2   \n",
       "2  Total TSA Customer Ever Opened TSA Account but...    Subset of 1      1.3   \n",
       "\n",
       "   OFCUSTOMERID  \n",
       "1       1478585  \n",
       "3       1329857  \n",
       "0        148728  \n",
       "2            11  "
      ]
     },
     "execution_count": 13,
     "metadata": {},
     "output_type": "execute_result"
    }
   ],
   "source": [
    "sorted_counts = merged_df.groupby(['Description', 'Set', 'Serialno'])['OFCUSTOMERID'].nunique().reset_index()\n",
    "sorted_counts_sorted = sorted_counts.sort_values(by='Serialno')\n",
    "sorted_counts_sorted"
   ]
  },
  {
   "cell_type": "markdown",
   "metadata": {},
   "source": [
    "# Total TSA Distinct Customers Who we closed"
   ]
  },
  {
   "cell_type": "code",
   "execution_count": 14,
   "metadata": {},
   "outputs": [
    {
     "name": "stdout",
     "output_type": "stream",
     "text": [
      "Job ID 93c67dc2-4450-495d-86b7-735a8e0da43b successfully executed: 100%|\u001b[32m██████████\u001b[0m|\n",
      "Downloading: 100%|\u001b[32m██████████\u001b[0m|\n"
     ]
    },
    {
     "data": {
      "text/html": [
       "<div>\n",
       "<style scoped>\n",
       "    .dataframe tbody tr th:only-of-type {\n",
       "        vertical-align: middle;\n",
       "    }\n",
       "\n",
       "    .dataframe tbody tr th {\n",
       "        vertical-align: top;\n",
       "    }\n",
       "\n",
       "    .dataframe thead th {\n",
       "        text-align: right;\n",
       "    }\n",
       "</style>\n",
       "<table border=\"1\" class=\"dataframe\">\n",
       "  <thead>\n",
       "    <tr style=\"text-align: right;\">\n",
       "      <th></th>\n",
       "      <th>OFCUSTOMERID</th>\n",
       "      <th>Description</th>\n",
       "      <th>Set</th>\n",
       "      <th>Serialno</th>\n",
       "    </tr>\n",
       "  </thead>\n",
       "  <tbody>\n",
       "    <tr>\n",
       "      <th>0</th>\n",
       "      <td>1008633</td>\n",
       "      <td>Total TSA Distinct Customers which we closed</td>\n",
       "      <td>Subset of 1.1</td>\n",
       "      <td>1.1a</td>\n",
       "    </tr>\n",
       "    <tr>\n",
       "      <th>1</th>\n",
       "      <td>1009765</td>\n",
       "      <td>Total TSA Distinct Customers which we closed</td>\n",
       "      <td>Subset of 1.1</td>\n",
       "      <td>1.1a</td>\n",
       "    </tr>\n",
       "    <tr>\n",
       "      <th>2</th>\n",
       "      <td>1010164</td>\n",
       "      <td>Total TSA Distinct Customers which we closed</td>\n",
       "      <td>Subset of 1.1</td>\n",
       "      <td>1.1a</td>\n",
       "    </tr>\n",
       "    <tr>\n",
       "      <th>3</th>\n",
       "      <td>1009701</td>\n",
       "      <td>Total TSA Distinct Customers which we closed</td>\n",
       "      <td>Subset of 1.1</td>\n",
       "      <td>1.1a</td>\n",
       "    </tr>\n",
       "    <tr>\n",
       "      <th>4</th>\n",
       "      <td>1009029</td>\n",
       "      <td>Total TSA Distinct Customers which we closed</td>\n",
       "      <td>Subset of 1.1</td>\n",
       "      <td>1.1a</td>\n",
       "    </tr>\n",
       "  </tbody>\n",
       "</table>\n",
       "</div>"
      ],
      "text/plain": [
       "  OFCUSTOMERID                                   Description            Set  \\\n",
       "0      1008633  Total TSA Distinct Customers which we closed  Subset of 1.1   \n",
       "1      1009765  Total TSA Distinct Customers which we closed  Subset of 1.1   \n",
       "2      1010164  Total TSA Distinct Customers which we closed  Subset of 1.1   \n",
       "3      1009701  Total TSA Distinct Customers which we closed  Subset of 1.1   \n",
       "4      1009029  Total TSA Distinct Customers which we closed  Subset of 1.1   \n",
       "\n",
       "  Serialno  \n",
       "0     1.1a  \n",
       "1     1.1a  \n",
       "2     1.1a  \n",
       "3     1.1a  \n",
       "4     1.1a  "
      ]
     },
     "execution_count": 14,
     "metadata": {},
     "output_type": "execute_result"
    }
   ],
   "source": [
    "sq = \"\"\"Select distinct OFCUSTOMERID from `core_raw.customer_accounts` where CRINTERDESC like 'Transactional Savings Account Inv_R'\n",
    "        and OFCUSTOMERID in (select distinct cust_id from prj-prod-dataplatform.dl_customers_db_raw.tdbk_customer_mtb where cust_id is not null)\n",
    "        and OFISCLOSED = 'Y'\n",
    "        and OFCUSTOMERID not in (Select distinct OFCUSTOMERID from `core_raw.customer_accounts` where CRINTERDESC like 'Transactional Savings Account Inv_R' and  OFISCLOSED = 'N')\n",
    "        ;\n",
    "    \"\"\"\n",
    "d4 = client.query(sq).to_dataframe(progress_bar_type='tqdm')\n",
    "d4['Description'] = \"Total TSA Distinct Customers which we closed\"\n",
    "d4['Set'] = 'Subset of 1.1'\n",
    "d4['Serialno'] = '1.1a'\n",
    "d4.head()"
   ]
  },
  {
   "cell_type": "code",
   "execution_count": 15,
   "metadata": {},
   "outputs": [
    {
     "name": "stdout",
     "output_type": "stream",
     "text": [
      "Merged DataFrame Shape: (3748323, 4)\n"
     ]
    },
    {
     "data": {
      "text/plain": [
       "Description\n",
       "Total Distinct Registered Customer                               1478585\n",
       "Total TSA Customer Ever Registered                               1329857\n",
       "Total TSA Distinct Customers which we closed                      791142\n",
       "Total Customer Ever Registered But Not Opened TSA Account         148728\n",
       "Total TSA Customer Ever Opened TSA Account but not registered         11\n",
       "Name: count, dtype: int64"
      ]
     },
     "execution_count": 15,
     "metadata": {},
     "output_type": "execute_result"
    }
   ],
   "source": [
    "merged_df = pd.concat([d, d1, d2, d3, d4], ignore_index=False)\n",
    "print(f\"Merged DataFrame Shape: {merged_df.shape}\")\n",
    "merged_df['Description'].value_counts()"
   ]
  },
  {
   "cell_type": "code",
   "execution_count": 16,
   "metadata": {},
   "outputs": [
    {
     "data": {
      "text/html": [
       "<div>\n",
       "<style scoped>\n",
       "    .dataframe tbody tr th:only-of-type {\n",
       "        vertical-align: middle;\n",
       "    }\n",
       "\n",
       "    .dataframe tbody tr th {\n",
       "        vertical-align: top;\n",
       "    }\n",
       "\n",
       "    .dataframe thead th {\n",
       "        text-align: right;\n",
       "    }\n",
       "</style>\n",
       "<table border=\"1\" class=\"dataframe\">\n",
       "  <thead>\n",
       "    <tr style=\"text-align: right;\">\n",
       "      <th></th>\n",
       "      <th>Description</th>\n",
       "      <th>Set</th>\n",
       "      <th>Serialno</th>\n",
       "      <th>OFCUSTOMERID</th>\n",
       "    </tr>\n",
       "  </thead>\n",
       "  <tbody>\n",
       "    <tr>\n",
       "      <th>1</th>\n",
       "      <td>Total Distinct Registered Customer</td>\n",
       "      <td>Overall</td>\n",
       "      <td>1.0</td>\n",
       "      <td>1478585</td>\n",
       "    </tr>\n",
       "    <tr>\n",
       "      <th>3</th>\n",
       "      <td>Total TSA Customer Ever Registered</td>\n",
       "      <td>Subset of 1.0</td>\n",
       "      <td>1.1</td>\n",
       "      <td>1329857</td>\n",
       "    </tr>\n",
       "    <tr>\n",
       "      <th>4</th>\n",
       "      <td>Total TSA Distinct Customers which we closed</td>\n",
       "      <td>Subset of 1.1</td>\n",
       "      <td>1.1a</td>\n",
       "      <td>791142</td>\n",
       "    </tr>\n",
       "    <tr>\n",
       "      <th>0</th>\n",
       "      <td>Total Customer Ever Registered But Not Opened ...</td>\n",
       "      <td>Subset of 1.0</td>\n",
       "      <td>1.2</td>\n",
       "      <td>148728</td>\n",
       "    </tr>\n",
       "    <tr>\n",
       "      <th>2</th>\n",
       "      <td>Total TSA Customer Ever Opened TSA Account but...</td>\n",
       "      <td>Subset of 1</td>\n",
       "      <td>1.3</td>\n",
       "      <td>11</td>\n",
       "    </tr>\n",
       "  </tbody>\n",
       "</table>\n",
       "</div>"
      ],
      "text/plain": [
       "                                         Description            Set Serialno  \\\n",
       "1                 Total Distinct Registered Customer        Overall      1.0   \n",
       "3                 Total TSA Customer Ever Registered  Subset of 1.0      1.1   \n",
       "4       Total TSA Distinct Customers which we closed  Subset of 1.1     1.1a   \n",
       "0  Total Customer Ever Registered But Not Opened ...  Subset of 1.0      1.2   \n",
       "2  Total TSA Customer Ever Opened TSA Account but...    Subset of 1      1.3   \n",
       "\n",
       "   OFCUSTOMERID  \n",
       "1       1478585  \n",
       "3       1329857  \n",
       "4        791142  \n",
       "0        148728  \n",
       "2            11  "
      ]
     },
     "execution_count": 16,
     "metadata": {},
     "output_type": "execute_result"
    }
   ],
   "source": [
    "sorted_counts = merged_df.groupby(['Description', 'Set', 'Serialno'])['OFCUSTOMERID'].nunique().reset_index()\n",
    "sorted_counts_sorted = sorted_counts.sort_values(by='Serialno')\n",
    "sorted_counts_sorted\n"
   ]
  },
  {
   "cell_type": "markdown",
   "metadata": {},
   "source": [
    "# Total TSA Customer which is Open"
   ]
  },
  {
   "cell_type": "code",
   "execution_count": 17,
   "metadata": {},
   "outputs": [
    {
     "name": "stdout",
     "output_type": "stream",
     "text": [
      "Job ID d3fcfa0a-d29c-45c4-981e-9125a205ced7 successfully executed: |\u001b[32m          \u001b[0m|   \n",
      "Downloading: 100%|\u001b[32m██████████\u001b[0m|\n"
     ]
    },
    {
     "data": {
      "text/html": [
       "<div>\n",
       "<style scoped>\n",
       "    .dataframe tbody tr th:only-of-type {\n",
       "        vertical-align: middle;\n",
       "    }\n",
       "\n",
       "    .dataframe tbody tr th {\n",
       "        vertical-align: top;\n",
       "    }\n",
       "\n",
       "    .dataframe thead th {\n",
       "        text-align: right;\n",
       "    }\n",
       "</style>\n",
       "<table border=\"1\" class=\"dataframe\">\n",
       "  <thead>\n",
       "    <tr style=\"text-align: right;\">\n",
       "      <th></th>\n",
       "      <th>OFCUSTOMERID</th>\n",
       "      <th>Description</th>\n",
       "      <th>Set</th>\n",
       "      <th>Serialno</th>\n",
       "    </tr>\n",
       "  </thead>\n",
       "  <tbody>\n",
       "    <tr>\n",
       "      <th>0</th>\n",
       "      <td>1041125</td>\n",
       "      <td>Total TSA Distinct Customers which is Open</td>\n",
       "      <td>Subset of 1.1</td>\n",
       "      <td>1.1b</td>\n",
       "    </tr>\n",
       "    <tr>\n",
       "      <th>1</th>\n",
       "      <td>1850597</td>\n",
       "      <td>Total TSA Distinct Customers which is Open</td>\n",
       "      <td>Subset of 1.1</td>\n",
       "      <td>1.1b</td>\n",
       "    </tr>\n",
       "    <tr>\n",
       "      <th>2</th>\n",
       "      <td>1850153</td>\n",
       "      <td>Total TSA Distinct Customers which is Open</td>\n",
       "      <td>Subset of 1.1</td>\n",
       "      <td>1.1b</td>\n",
       "    </tr>\n",
       "    <tr>\n",
       "      <th>3</th>\n",
       "      <td>1850174</td>\n",
       "      <td>Total TSA Distinct Customers which is Open</td>\n",
       "      <td>Subset of 1.1</td>\n",
       "      <td>1.1b</td>\n",
       "    </tr>\n",
       "    <tr>\n",
       "      <th>4</th>\n",
       "      <td>1863910</td>\n",
       "      <td>Total TSA Distinct Customers which is Open</td>\n",
       "      <td>Subset of 1.1</td>\n",
       "      <td>1.1b</td>\n",
       "    </tr>\n",
       "  </tbody>\n",
       "</table>\n",
       "</div>"
      ],
      "text/plain": [
       "  OFCUSTOMERID                                 Description            Set  \\\n",
       "0      1041125  Total TSA Distinct Customers which is Open  Subset of 1.1   \n",
       "1      1850597  Total TSA Distinct Customers which is Open  Subset of 1.1   \n",
       "2      1850153  Total TSA Distinct Customers which is Open  Subset of 1.1   \n",
       "3      1850174  Total TSA Distinct Customers which is Open  Subset of 1.1   \n",
       "4      1863910  Total TSA Distinct Customers which is Open  Subset of 1.1   \n",
       "\n",
       "  Serialno  \n",
       "0     1.1b  \n",
       "1     1.1b  \n",
       "2     1.1b  \n",
       "3     1.1b  \n",
       "4     1.1b  "
      ]
     },
     "execution_count": 17,
     "metadata": {},
     "output_type": "execute_result"
    }
   ],
   "source": [
    "sq = \"\"\"Select distinct OFCUSTOMERID from `core_raw.customer_accounts` where CRINTERDESC like 'Transactional Savings Account Inv_R'\n",
    "and OFCUSTOMERID in (select distinct cust_id from prj-prod-dataplatform.dl_customers_db_raw.tdbk_customer_mtb where cust_id is not null)\n",
    "and OFISCLOSED = 'N'\n",
    ";\"\"\"\n",
    "\n",
    "d5 = client.query(sq).to_dataframe(progress_bar_type='tqdm')\n",
    "d5['Description'] = \"Total TSA Distinct Customers which is Open\"\n",
    "d5['Set'] = 'Subset of 1.1'\n",
    "d5['Serialno'] = '1.1b'\n",
    "d5.head()"
   ]
  },
  {
   "cell_type": "code",
   "execution_count": 18,
   "metadata": {},
   "outputs": [
    {
     "name": "stdout",
     "output_type": "stream",
     "text": [
      "Merged DataFrame Shape: (4287038, 4)\n"
     ]
    },
    {
     "data": {
      "text/plain": [
       "Description\n",
       "Total Distinct Registered Customer                               1478585\n",
       "Total TSA Customer Ever Registered                               1329857\n",
       "Total TSA Distinct Customers which we closed                      791142\n",
       "Total TSA Distinct Customers which is Open                        538715\n",
       "Total Customer Ever Registered But Not Opened TSA Account         148728\n",
       "Total TSA Customer Ever Opened TSA Account but not registered         11\n",
       "Name: count, dtype: int64"
      ]
     },
     "execution_count": 18,
     "metadata": {},
     "output_type": "execute_result"
    }
   ],
   "source": [
    "merged_df = pd.concat([d, d1, d2, d3, d4, d5], ignore_index=False)\n",
    "print(f\"Merged DataFrame Shape: {merged_df.shape}\")\n",
    "merged_df['Description'].value_counts()"
   ]
  },
  {
   "cell_type": "code",
   "execution_count": 19,
   "metadata": {},
   "outputs": [
    {
     "data": {
      "text/html": [
       "<div>\n",
       "<style scoped>\n",
       "    .dataframe tbody tr th:only-of-type {\n",
       "        vertical-align: middle;\n",
       "    }\n",
       "\n",
       "    .dataframe tbody tr th {\n",
       "        vertical-align: top;\n",
       "    }\n",
       "\n",
       "    .dataframe thead th {\n",
       "        text-align: right;\n",
       "    }\n",
       "</style>\n",
       "<table border=\"1\" class=\"dataframe\">\n",
       "  <thead>\n",
       "    <tr style=\"text-align: right;\">\n",
       "      <th></th>\n",
       "      <th>Description</th>\n",
       "      <th>Set</th>\n",
       "      <th>Serialno</th>\n",
       "      <th>OFCUSTOMERID</th>\n",
       "    </tr>\n",
       "  </thead>\n",
       "  <tbody>\n",
       "    <tr>\n",
       "      <th>1</th>\n",
       "      <td>Total Distinct Registered Customer</td>\n",
       "      <td>Overall</td>\n",
       "      <td>1.0</td>\n",
       "      <td>1478585</td>\n",
       "    </tr>\n",
       "    <tr>\n",
       "      <th>3</th>\n",
       "      <td>Total TSA Customer Ever Registered</td>\n",
       "      <td>Subset of 1.0</td>\n",
       "      <td>1.1</td>\n",
       "      <td>1329857</td>\n",
       "    </tr>\n",
       "    <tr>\n",
       "      <th>5</th>\n",
       "      <td>Total TSA Distinct Customers which we closed</td>\n",
       "      <td>Subset of 1.1</td>\n",
       "      <td>1.1a</td>\n",
       "      <td>791142</td>\n",
       "    </tr>\n",
       "    <tr>\n",
       "      <th>4</th>\n",
       "      <td>Total TSA Distinct Customers which is Open</td>\n",
       "      <td>Subset of 1.1</td>\n",
       "      <td>1.1b</td>\n",
       "      <td>538715</td>\n",
       "    </tr>\n",
       "    <tr>\n",
       "      <th>0</th>\n",
       "      <td>Total Customer Ever Registered But Not Opened ...</td>\n",
       "      <td>Subset of 1.0</td>\n",
       "      <td>1.2</td>\n",
       "      <td>148728</td>\n",
       "    </tr>\n",
       "    <tr>\n",
       "      <th>2</th>\n",
       "      <td>Total TSA Customer Ever Opened TSA Account but...</td>\n",
       "      <td>Subset of 1</td>\n",
       "      <td>1.3</td>\n",
       "      <td>11</td>\n",
       "    </tr>\n",
       "  </tbody>\n",
       "</table>\n",
       "</div>"
      ],
      "text/plain": [
       "                                         Description            Set Serialno  \\\n",
       "1                 Total Distinct Registered Customer        Overall      1.0   \n",
       "3                 Total TSA Customer Ever Registered  Subset of 1.0      1.1   \n",
       "5       Total TSA Distinct Customers which we closed  Subset of 1.1     1.1a   \n",
       "4         Total TSA Distinct Customers which is Open  Subset of 1.1     1.1b   \n",
       "0  Total Customer Ever Registered But Not Opened ...  Subset of 1.0      1.2   \n",
       "2  Total TSA Customer Ever Opened TSA Account but...    Subset of 1      1.3   \n",
       "\n",
       "   OFCUSTOMERID  \n",
       "1       1478585  \n",
       "3       1329857  \n",
       "5        791142  \n",
       "4        538715  \n",
       "0        148728  \n",
       "2            11  "
      ]
     },
     "execution_count": 19,
     "metadata": {},
     "output_type": "execute_result"
    }
   ],
   "source": [
    "sorted_counts = merged_df.groupby(['Description', 'Set', 'Serialno'])['OFCUSTOMERID'].nunique().reset_index()\n",
    "sorted_counts_sorted = sorted_counts.sort_values(by='Serialno')\n",
    "sorted_counts_sorted\n"
   ]
  },
  {
   "cell_type": "markdown",
   "metadata": {},
   "source": [
    "# MAU \n",
    "\n",
    "So, new definition of MAU is. Customer with open TSA and at least one any transaction for the amount greater than 100 PHP in the last 30 days. No active loan. OR has balance of the TSA + any Stash greater than 100 PHP. Whoch means if he didnt transact but he has money on TSA - he is MAU. If he doesnt transact and doesnt have money on TSA but has more than 100 PHP on Stash - he is active "
   ]
  },
  {
   "cell_type": "code",
   "execution_count": 20,
   "metadata": {},
   "outputs": [
    {
     "name": "stdout",
     "output_type": "stream",
     "text": [
      "Job ID ddacb9ad-7f20-4896-acc9-fefe346568bb successfully executed: 100%|\u001b[32m██████████\u001b[0m|\n",
      "Downloading: 100%|\u001b[32m██████████\u001b[0m|\n"
     ]
    },
    {
     "data": {
      "text/html": [
       "<div>\n",
       "<style scoped>\n",
       "    .dataframe tbody tr th:only-of-type {\n",
       "        vertical-align: middle;\n",
       "    }\n",
       "\n",
       "    .dataframe tbody tr th {\n",
       "        vertical-align: top;\n",
       "    }\n",
       "\n",
       "    .dataframe thead th {\n",
       "        text-align: right;\n",
       "    }\n",
       "</style>\n",
       "<table border=\"1\" class=\"dataframe\">\n",
       "  <thead>\n",
       "    <tr style=\"text-align: right;\">\n",
       "      <th></th>\n",
       "      <th>customer_id</th>\n",
       "      <th>Description</th>\n",
       "      <th>Set</th>\n",
       "      <th>Serialno</th>\n",
       "    </tr>\n",
       "  </thead>\n",
       "  <tbody>\n",
       "    <tr>\n",
       "      <th>0</th>\n",
       "      <td>1039322</td>\n",
       "      <td>MAU as per New Definition</td>\n",
       "      <td>Set 2</td>\n",
       "      <td>2.0</td>\n",
       "    </tr>\n",
       "    <tr>\n",
       "      <th>1</th>\n",
       "      <td>1010057</td>\n",
       "      <td>MAU as per New Definition</td>\n",
       "      <td>Set 2</td>\n",
       "      <td>2.0</td>\n",
       "    </tr>\n",
       "    <tr>\n",
       "      <th>2</th>\n",
       "      <td>1058414</td>\n",
       "      <td>MAU as per New Definition</td>\n",
       "      <td>Set 2</td>\n",
       "      <td>2.0</td>\n",
       "    </tr>\n",
       "    <tr>\n",
       "      <th>3</th>\n",
       "      <td>1041172</td>\n",
       "      <td>MAU as per New Definition</td>\n",
       "      <td>Set 2</td>\n",
       "      <td>2.0</td>\n",
       "    </tr>\n",
       "    <tr>\n",
       "      <th>4</th>\n",
       "      <td>1913464</td>\n",
       "      <td>MAU as per New Definition</td>\n",
       "      <td>Set 2</td>\n",
       "      <td>2.0</td>\n",
       "    </tr>\n",
       "  </tbody>\n",
       "</table>\n",
       "</div>"
      ],
      "text/plain": [
       "  customer_id                Description    Set Serialno\n",
       "0     1039322  MAU as per New Definition  Set 2      2.0\n",
       "1     1010057  MAU as per New Definition  Set 2      2.0\n",
       "2     1058414  MAU as per New Definition  Set 2      2.0\n",
       "3     1041172  MAU as per New Definition  Set 2      2.0\n",
       "4     1913464  MAU as per New Definition  Set 2      2.0"
      ]
     },
     "execution_count": 20,
     "metadata": {},
     "output_type": "execute_result"
    }
   ],
   "source": [
    "sq = \"\"\"with\n",
    "loan_cust --list of customers having active loan\n",
    "        AS (\n",
    "        SELECT \n",
    "            distinct CAST(customerId AS STRING) customerId\n",
    "        FROM \n",
    "            `prj-prod-dataplatform.risk_credit_mis.loan_master_table`\n",
    "        WHERE \n",
    "            loanPaidStatus IN ('Normal', 'In Arrears')),\n",
    "opentsacust -- list of open tsa customers\n",
    "AS (Select distinct OFCUSTOMERID from `core_raw.customer_accounts` where CRINTERDESC like 'Transactional Savings Account Inv_R'\n",
    "and OFCUSTOMERID in (select distinct cust_id from prj-prod-dataplatform.dl_customers_db_raw.tdbk_customer_mtb where cust_id is not null)\n",
    "and OFISCLOSED = 'N'),\n",
    "b as --- transaction in last 30 days more than 100 pesos\n",
    "(Select customer_id, \n",
    "max(date(current_date())) currentdate,\n",
    "max(date_sub(current_date(), interval 1 month)) onemonthbackdate,\n",
    "sum(case when date(transaction_date) between date_sub(current_date(), interval 1 month) and date(current_date())  then trx_amount else 0 end) transactions\n",
    "from `risk_mart.customer_transactions`\n",
    "where customer_id not in (select customerId from loan_cust)\n",
    "and customer_id in (select OFCUSTOMERID from opentsacust)\n",
    "group by 1\n",
    "),\n",
    "otherpart as --list of customer who have balance of more than 100 pesos in any of the accounts\n",
    "(select OFCUSTOMERID,sum(OFCLEAREDBALANCE) from `prj-prod-dataplatform.core_raw.customer_accounts`\n",
    "where\n",
    " OFPRODUCTCATEGORY in ('SaveForFuture','savings','fixdep')\n",
    " and CRINTERDESC in ('Transactional Savings Account Inv_R','Group stash Account_R','Stash Account Inv_R','REGULAR FD - Per - PHP -9 mon- R','REGULAR FD - Per - PHP -12 mon- R','REGULAR FD - Per - PHP -6 mon- R','Medium FD - Per - PHP - 24mon- R')\n",
    "group by 1\n",
    "having  sum(OFCLEAREDBALANCE) > 100)\n",
    "select distinct customer_id from b where transactions >= 100\n",
    "union distinct\n",
    "(select distinct OFCUSTOMERID from otherpart)\"\"\"\n",
    "d6 = client.query(sq).to_dataframe(progress_bar_type='tqdm')\n",
    "d6['Description'] = \"MAU as per New Definition\"\n",
    "d6['Set'] = 'Set 2'\n",
    "d6['Serialno'] = '2.0'\n",
    "d6.head()\n"
   ]
  },
  {
   "cell_type": "code",
   "execution_count": 21,
   "metadata": {},
   "outputs": [],
   "source": [
    "d6.rename(columns={'customer_id':'OFCUSTOMERID'}, inplace = True)"
   ]
  },
  {
   "cell_type": "code",
   "execution_count": 22,
   "metadata": {},
   "outputs": [
    {
     "name": "stdout",
     "output_type": "stream",
     "text": [
      "Merged DataFrame Shape: (4371566, 4)\n"
     ]
    },
    {
     "data": {
      "text/plain": [
       "Description\n",
       "Total Distinct Registered Customer                               1478585\n",
       "Total TSA Customer Ever Registered                               1329857\n",
       "Total TSA Distinct Customers which we closed                      791142\n",
       "Total TSA Distinct Customers which is Open                        538715\n",
       "Total Customer Ever Registered But Not Opened TSA Account         148728\n",
       "MAU as per New Definition                                          84528\n",
       "Total TSA Customer Ever Opened TSA Account but not registered         11\n",
       "Name: count, dtype: int64"
      ]
     },
     "execution_count": 22,
     "metadata": {},
     "output_type": "execute_result"
    }
   ],
   "source": [
    "merged_df = pd.concat([d, d1, d2, d3, d4, d5, d6], ignore_index=False)\n",
    "print(f\"Merged DataFrame Shape: {merged_df.shape}\")\n",
    "merged_df['Description'].value_counts()"
   ]
  },
  {
   "cell_type": "code",
   "execution_count": 23,
   "metadata": {},
   "outputs": [
    {
     "data": {
      "text/html": [
       "<div>\n",
       "<style scoped>\n",
       "    .dataframe tbody tr th:only-of-type {\n",
       "        vertical-align: middle;\n",
       "    }\n",
       "\n",
       "    .dataframe tbody tr th {\n",
       "        vertical-align: top;\n",
       "    }\n",
       "\n",
       "    .dataframe thead th {\n",
       "        text-align: right;\n",
       "    }\n",
       "</style>\n",
       "<table border=\"1\" class=\"dataframe\">\n",
       "  <thead>\n",
       "    <tr style=\"text-align: right;\">\n",
       "      <th></th>\n",
       "      <th>Description</th>\n",
       "      <th>Set</th>\n",
       "      <th>Serialno</th>\n",
       "      <th>OFCUSTOMERID</th>\n",
       "    </tr>\n",
       "  </thead>\n",
       "  <tbody>\n",
       "    <tr>\n",
       "      <th>2</th>\n",
       "      <td>Total Distinct Registered Customer</td>\n",
       "      <td>Overall</td>\n",
       "      <td>1.0</td>\n",
       "      <td>1478585</td>\n",
       "    </tr>\n",
       "    <tr>\n",
       "      <th>4</th>\n",
       "      <td>Total TSA Customer Ever Registered</td>\n",
       "      <td>Subset of 1.0</td>\n",
       "      <td>1.1</td>\n",
       "      <td>1329857</td>\n",
       "    </tr>\n",
       "    <tr>\n",
       "      <th>6</th>\n",
       "      <td>Total TSA Distinct Customers which we closed</td>\n",
       "      <td>Subset of 1.1</td>\n",
       "      <td>1.1a</td>\n",
       "      <td>791142</td>\n",
       "    </tr>\n",
       "    <tr>\n",
       "      <th>5</th>\n",
       "      <td>Total TSA Distinct Customers which is Open</td>\n",
       "      <td>Subset of 1.1</td>\n",
       "      <td>1.1b</td>\n",
       "      <td>538715</td>\n",
       "    </tr>\n",
       "    <tr>\n",
       "      <th>1</th>\n",
       "      <td>Total Customer Ever Registered But Not Opened ...</td>\n",
       "      <td>Subset of 1.0</td>\n",
       "      <td>1.2</td>\n",
       "      <td>148728</td>\n",
       "    </tr>\n",
       "    <tr>\n",
       "      <th>3</th>\n",
       "      <td>Total TSA Customer Ever Opened TSA Account but...</td>\n",
       "      <td>Subset of 1</td>\n",
       "      <td>1.3</td>\n",
       "      <td>11</td>\n",
       "    </tr>\n",
       "    <tr>\n",
       "      <th>0</th>\n",
       "      <td>MAU as per New Definition</td>\n",
       "      <td>Set 2</td>\n",
       "      <td>2.0</td>\n",
       "      <td>84528</td>\n",
       "    </tr>\n",
       "  </tbody>\n",
       "</table>\n",
       "</div>"
      ],
      "text/plain": [
       "                                         Description            Set Serialno  \\\n",
       "2                 Total Distinct Registered Customer        Overall      1.0   \n",
       "4                 Total TSA Customer Ever Registered  Subset of 1.0      1.1   \n",
       "6       Total TSA Distinct Customers which we closed  Subset of 1.1     1.1a   \n",
       "5         Total TSA Distinct Customers which is Open  Subset of 1.1     1.1b   \n",
       "1  Total Customer Ever Registered But Not Opened ...  Subset of 1.0      1.2   \n",
       "3  Total TSA Customer Ever Opened TSA Account but...    Subset of 1      1.3   \n",
       "0                          MAU as per New Definition          Set 2      2.0   \n",
       "\n",
       "   OFCUSTOMERID  \n",
       "2       1478585  \n",
       "4       1329857  \n",
       "6        791142  \n",
       "5        538715  \n",
       "1        148728  \n",
       "3            11  \n",
       "0         84528  "
      ]
     },
     "execution_count": 23,
     "metadata": {},
     "output_type": "execute_result"
    }
   ],
   "source": [
    "sorted_counts = merged_df.groupby(['Description', 'Set', 'Serialno'])['OFCUSTOMERID'].nunique().reset_index()\n",
    "sorted_counts_sorted = sorted_counts.sort_values(by='Serialno')\n",
    "sorted_counts_sorted\n"
   ]
  },
  {
   "attachments": {
    "image.png": {
     "image/png": "[encoded data removed]"
    }
   },
   "cell_type": "markdown",
   "metadata": {},
   "source": [
    "# MMAU\n",
    "\n",
    "![image.png](attachment:image.png)"
   ]
  },
  {
   "cell_type": "code",
   "execution_count": 24,
   "metadata": {},
   "outputs": [
    {
     "name": "stdout",
     "output_type": "stream",
     "text": [
      "Job ID 9daeabd3-4d99-4215-84cf-1753dc429f56 successfully executed: 100%|\u001b[32m██████████\u001b[0m|\n",
      "Downloading: 100%|\u001b[32m██████████\u001b[0m|\n"
     ]
    },
    {
     "data": {
      "text/html": [
       "<div>\n",
       "<style scoped>\n",
       "    .dataframe tbody tr th:only-of-type {\n",
       "        vertical-align: middle;\n",
       "    }\n",
       "\n",
       "    .dataframe tbody tr th {\n",
       "        vertical-align: top;\n",
       "    }\n",
       "\n",
       "    .dataframe thead th {\n",
       "        text-align: right;\n",
       "    }\n",
       "</style>\n",
       "<table border=\"1\" class=\"dataframe\">\n",
       "  <thead>\n",
       "    <tr style=\"text-align: right;\">\n",
       "      <th></th>\n",
       "      <th>customer_id</th>\n",
       "      <th>Description</th>\n",
       "      <th>Set</th>\n",
       "      <th>Serialno</th>\n",
       "    </tr>\n",
       "  </thead>\n",
       "  <tbody>\n",
       "    <tr>\n",
       "      <th>0</th>\n",
       "      <td>1033607</td>\n",
       "      <td>MMAU</td>\n",
       "      <td>Set 3</td>\n",
       "      <td>3.0</td>\n",
       "    </tr>\n",
       "    <tr>\n",
       "      <th>1</th>\n",
       "      <td>1033001</td>\n",
       "      <td>MMAU</td>\n",
       "      <td>Set 3</td>\n",
       "      <td>3.0</td>\n",
       "    </tr>\n",
       "    <tr>\n",
       "      <th>2</th>\n",
       "      <td>1064278</td>\n",
       "      <td>MMAU</td>\n",
       "      <td>Set 3</td>\n",
       "      <td>3.0</td>\n",
       "    </tr>\n",
       "    <tr>\n",
       "      <th>3</th>\n",
       "      <td>1590966</td>\n",
       "      <td>MMAU</td>\n",
       "      <td>Set 3</td>\n",
       "      <td>3.0</td>\n",
       "    </tr>\n",
       "    <tr>\n",
       "      <th>4</th>\n",
       "      <td>1223994</td>\n",
       "      <td>MMAU</td>\n",
       "      <td>Set 3</td>\n",
       "      <td>3.0</td>\n",
       "    </tr>\n",
       "  </tbody>\n",
       "</table>\n",
       "</div>"
      ],
      "text/plain": [
       "  customer_id Description    Set Serialno\n",
       "0     1033607        MMAU  Set 3      3.0\n",
       "1     1033001        MMAU  Set 3      3.0\n",
       "2     1064278        MMAU  Set 3      3.0\n",
       "3     1590966        MMAU  Set 3      3.0\n",
       "4     1223994        MMAU  Set 3      3.0"
      ]
     },
     "execution_count": 24,
     "metadata": {},
     "output_type": "execute_result"
    }
   ],
   "source": [
    "sq = \"\"\"with \n",
    "opentsacust -- list of open tsa customers\n",
    "AS (Select distinct OFCUSTOMERID from `core_raw.customer_accounts` where CRINTERDESC like 'Transactional Savings Account Inv_R'\n",
    "and OFCUSTOMERID in (select distinct cust_id from prj-prod-dataplatform.dl_customers_db_raw.tdbk_customer_mtb where cust_id is not null)\n",
    "and OFISCLOSED = 'N'),\n",
    "b as --Marek's first criteria\n",
    "(select customer_id, count(customer_id) cnt from `risk_mart.customer_transactions`\n",
    "where status = 'Success'\n",
    "and abs(trx_amount) > 0\n",
    "and date(transaction_date) between date_sub(current_date(), interval 3 month) and current_date()\n",
    "group by 1\n",
    ")\n",
    "select customer_id from b where cnt >= 5\n",
    "union distinct \n",
    "(with b as  --- Marek's second criteria\n",
    "(select client_id, count(distinct account_type) typesofaccounts, sum(clearedbalance) totalbalance \n",
    "from `risk_mart.customer_balance`\n",
    "WHERE balanceDateAsOf = date_sub(current_date(), interval 1 day)\n",
    " group by 1 having sum(clearedbalance) > 1000\n",
    ")\n",
    "select client_id from b\n",
    ");\n",
    "\"\"\"\n",
    "\n",
    "d7 = client.query(sq).to_dataframe(progress_bar_type='tqdm')\n",
    "d7['Description'] = \"MMAU\"\n",
    "d7['Set'] = 'Set 3'\n",
    "d7['Serialno'] = '3.0'\n",
    "d7.head()"
   ]
  },
  {
   "cell_type": "code",
   "execution_count": 25,
   "metadata": {},
   "outputs": [],
   "source": [
    "d7.rename(columns={'customer_id': 'OFCUSTOMERID'}, inplace = True)"
   ]
  },
  {
   "cell_type": "code",
   "execution_count": 26,
   "metadata": {},
   "outputs": [
    {
     "name": "stdout",
     "output_type": "stream",
     "text": [
      "Merged DataFrame Shape: (4433654, 4)\n"
     ]
    },
    {
     "data": {
      "text/plain": [
       "Description\n",
       "Total Distinct Registered Customer                               1478585\n",
       "Total TSA Customer Ever Registered                               1329857\n",
       "Total TSA Distinct Customers which we closed                      791142\n",
       "Total TSA Distinct Customers which is Open                        538715\n",
       "Total Customer Ever Registered But Not Opened TSA Account         148728\n",
       "MAU as per New Definition                                          84528\n",
       "MMAU                                                               62088\n",
       "Total TSA Customer Ever Opened TSA Account but not registered         11\n",
       "Name: count, dtype: int64"
      ]
     },
     "execution_count": 26,
     "metadata": {},
     "output_type": "execute_result"
    }
   ],
   "source": [
    "merged_df = pd.concat([d, d1, d2, d3, d4, d5, d6, d7], ignore_index=False)\n",
    "print(f\"Merged DataFrame Shape: {merged_df.shape}\")\n",
    "merged_df['Description'].value_counts()"
   ]
  },
  {
   "cell_type": "code",
   "execution_count": 27,
   "metadata": {},
   "outputs": [
    {
     "data": {
      "text/html": [
       "<div>\n",
       "<style scoped>\n",
       "    .dataframe tbody tr th:only-of-type {\n",
       "        vertical-align: middle;\n",
       "    }\n",
       "\n",
       "    .dataframe tbody tr th {\n",
       "        vertical-align: top;\n",
       "    }\n",
       "\n",
       "    .dataframe thead th {\n",
       "        text-align: right;\n",
       "    }\n",
       "</style>\n",
       "<table border=\"1\" class=\"dataframe\">\n",
       "  <thead>\n",
       "    <tr style=\"text-align: right;\">\n",
       "      <th></th>\n",
       "      <th>Description</th>\n",
       "      <th>Set</th>\n",
       "      <th>Serialno</th>\n",
       "      <th>OFCUSTOMERID</th>\n",
       "    </tr>\n",
       "  </thead>\n",
       "  <tbody>\n",
       "    <tr>\n",
       "      <th>3</th>\n",
       "      <td>Total Distinct Registered Customer</td>\n",
       "      <td>Overall</td>\n",
       "      <td>1.0</td>\n",
       "      <td>1478585</td>\n",
       "    </tr>\n",
       "    <tr>\n",
       "      <th>5</th>\n",
       "      <td>Total TSA Customer Ever Registered</td>\n",
       "      <td>Subset of 1.0</td>\n",
       "      <td>1.1</td>\n",
       "      <td>1329857</td>\n",
       "    </tr>\n",
       "    <tr>\n",
       "      <th>7</th>\n",
       "      <td>Total TSA Distinct Customers which we closed</td>\n",
       "      <td>Subset of 1.1</td>\n",
       "      <td>1.1a</td>\n",
       "      <td>791142</td>\n",
       "    </tr>\n",
       "    <tr>\n",
       "      <th>6</th>\n",
       "      <td>Total TSA Distinct Customers which is Open</td>\n",
       "      <td>Subset of 1.1</td>\n",
       "      <td>1.1b</td>\n",
       "      <td>538715</td>\n",
       "    </tr>\n",
       "    <tr>\n",
       "      <th>2</th>\n",
       "      <td>Total Customer Ever Registered But Not Opened ...</td>\n",
       "      <td>Subset of 1.0</td>\n",
       "      <td>1.2</td>\n",
       "      <td>148728</td>\n",
       "    </tr>\n",
       "    <tr>\n",
       "      <th>4</th>\n",
       "      <td>Total TSA Customer Ever Opened TSA Account but...</td>\n",
       "      <td>Subset of 1</td>\n",
       "      <td>1.3</td>\n",
       "      <td>11</td>\n",
       "    </tr>\n",
       "    <tr>\n",
       "      <th>0</th>\n",
       "      <td>MAU as per New Definition</td>\n",
       "      <td>Set 2</td>\n",
       "      <td>2.0</td>\n",
       "      <td>84528</td>\n",
       "    </tr>\n",
       "    <tr>\n",
       "      <th>1</th>\n",
       "      <td>MMAU</td>\n",
       "      <td>Set 3</td>\n",
       "      <td>3.0</td>\n",
       "      <td>62088</td>\n",
       "    </tr>\n",
       "  </tbody>\n",
       "</table>\n",
       "</div>"
      ],
      "text/plain": [
       "                                         Description            Set Serialno  \\\n",
       "3                 Total Distinct Registered Customer        Overall      1.0   \n",
       "5                 Total TSA Customer Ever Registered  Subset of 1.0      1.1   \n",
       "7       Total TSA Distinct Customers which we closed  Subset of 1.1     1.1a   \n",
       "6         Total TSA Distinct Customers which is Open  Subset of 1.1     1.1b   \n",
       "2  Total Customer Ever Registered But Not Opened ...  Subset of 1.0      1.2   \n",
       "4  Total TSA Customer Ever Opened TSA Account but...    Subset of 1      1.3   \n",
       "0                          MAU as per New Definition          Set 2      2.0   \n",
       "1                                               MMAU          Set 3      3.0   \n",
       "\n",
       "   OFCUSTOMERID  \n",
       "3       1478585  \n",
       "5       1329857  \n",
       "7        791142  \n",
       "6        538715  \n",
       "2        148728  \n",
       "4            11  \n",
       "0         84528  \n",
       "1         62088  "
      ]
     },
     "execution_count": 27,
     "metadata": {},
     "output_type": "execute_result"
    }
   ],
   "source": [
    "sorted_counts = merged_df.groupby(['Description', 'Set', 'Serialno'])['OFCUSTOMERID'].nunique().reset_index()\n",
    "sorted_counts_sorted = sorted_counts.sort_values(by='Serialno')\n",
    "sorted_counts_sorted\n"
   ]
  },
  {
   "cell_type": "markdown",
   "metadata": {},
   "source": [
    "# Share of open TSA to total registered users"
   ]
  },
  {
   "cell_type": "code",
   "execution_count": 28,
   "metadata": {},
   "outputs": [
    {
     "data": {
      "text/html": [
       "<div>\n",
       "<style scoped>\n",
       "    .dataframe tbody tr th:only-of-type {\n",
       "        vertical-align: middle;\n",
       "    }\n",
       "\n",
       "    .dataframe tbody tr th {\n",
       "        vertical-align: top;\n",
       "    }\n",
       "\n",
       "    .dataframe thead th {\n",
       "        text-align: right;\n",
       "    }\n",
       "</style>\n",
       "<table border=\"1\" class=\"dataframe\">\n",
       "  <thead>\n",
       "    <tr style=\"text-align: right;\">\n",
       "      <th></th>\n",
       "      <th>Description</th>\n",
       "      <th>Set</th>\n",
       "      <th>Serialno</th>\n",
       "      <th>OFCUSTOMERID</th>\n",
       "    </tr>\n",
       "  </thead>\n",
       "  <tbody>\n",
       "    <tr>\n",
       "      <th>0</th>\n",
       "      <td>Share of open TSA to total registered users</td>\n",
       "      <td>Calculation of 1.0 and 1.1b</td>\n",
       "      <td>1.1c</td>\n",
       "      <td>0.36</td>\n",
       "    </tr>\n",
       "  </tbody>\n",
       "</table>\n",
       "</div>"
      ],
      "text/plain": [
       "                                   Description                          Set  \\\n",
       "0  Share of open TSA to total registered users  Calculation of 1.0 and 1.1b   \n",
       "\n",
       "  Serialno  OFCUSTOMERID  \n",
       "0     1.1c          0.36  "
      ]
     },
     "execution_count": 28,
     "metadata": {},
     "output_type": "execute_result"
    }
   ],
   "source": [
    "import pandas as pd\n",
    "\n",
    "# Assuming 'sorted_counts_sorted' is your sorted DataFrame\n",
    "\n",
    "# Calculate the ratio\n",
    "open_tsa_customers = sorted_counts_sorted.loc[sorted_counts_sorted['Description'] == 'Total TSA Distinct Customers which is Open', 'OFCUSTOMERID'].iloc[0]\n",
    "total_registered_customers = sorted_counts_sorted.loc[sorted_counts_sorted['Description'] == 'Total Distinct Registered Customer', 'OFCUSTOMERID'].iloc[0]\n",
    "ratio = round(open_tsa_customers / total_registered_customers, 2)\n",
    "\n",
    "# Create a DataFrame with the calculated ratio\n",
    "df = pd.DataFrame({\n",
    "    'Description': ['Share of open TSA to total registered users'],\n",
    "    'Set': ['Calculation of 1.0 and 1.1b'],\n",
    "    'Serialno': ['1.1c'],\n",
    "    'OFCUSTOMERID': [ratio]\n",
    "})\n",
    "\n",
    "df.head()\n"
   ]
  },
  {
   "cell_type": "code",
   "execution_count": 29,
   "metadata": {},
   "outputs": [],
   "source": [
    "# Concatenate sorted_counts_sorted and df\n",
    "sorted_counts_sorted = pd.concat([sorted_counts_sorted, df], ignore_index=True)"
   ]
  },
  {
   "cell_type": "code",
   "execution_count": 30,
   "metadata": {},
   "outputs": [
    {
     "data": {
      "text/html": [
       "<div>\n",
       "<style scoped>\n",
       "    .dataframe tbody tr th:only-of-type {\n",
       "        vertical-align: middle;\n",
       "    }\n",
       "\n",
       "    .dataframe tbody tr th {\n",
       "        vertical-align: top;\n",
       "    }\n",
       "\n",
       "    .dataframe thead th {\n",
       "        text-align: right;\n",
       "    }\n",
       "</style>\n",
       "<table border=\"1\" class=\"dataframe\">\n",
       "  <thead>\n",
       "    <tr style=\"text-align: right;\">\n",
       "      <th></th>\n",
       "      <th>Description</th>\n",
       "      <th>Set</th>\n",
       "      <th>Serialno</th>\n",
       "      <th>OFCUSTOMERID</th>\n",
       "    </tr>\n",
       "  </thead>\n",
       "  <tbody>\n",
       "    <tr>\n",
       "      <th>0</th>\n",
       "      <td>Total Distinct Registered Customer</td>\n",
       "      <td>Overall</td>\n",
       "      <td>1.0</td>\n",
       "      <td>1478585.00</td>\n",
       "    </tr>\n",
       "    <tr>\n",
       "      <th>1</th>\n",
       "      <td>Total TSA Customer Ever Registered</td>\n",
       "      <td>Subset of 1.0</td>\n",
       "      <td>1.1</td>\n",
       "      <td>1329857.00</td>\n",
       "    </tr>\n",
       "    <tr>\n",
       "      <th>2</th>\n",
       "      <td>Total TSA Distinct Customers which we closed</td>\n",
       "      <td>Subset of 1.1</td>\n",
       "      <td>1.1a</td>\n",
       "      <td>791142.00</td>\n",
       "    </tr>\n",
       "    <tr>\n",
       "      <th>3</th>\n",
       "      <td>Total TSA Distinct Customers which is Open</td>\n",
       "      <td>Subset of 1.1</td>\n",
       "      <td>1.1b</td>\n",
       "      <td>538715.00</td>\n",
       "    </tr>\n",
       "    <tr>\n",
       "      <th>8</th>\n",
       "      <td>Share of open TSA to total registered users</td>\n",
       "      <td>Calculation of 1.0 and 1.1b</td>\n",
       "      <td>1.1c</td>\n",
       "      <td>0.36</td>\n",
       "    </tr>\n",
       "    <tr>\n",
       "      <th>4</th>\n",
       "      <td>Total Customer Ever Registered But Not Opened ...</td>\n",
       "      <td>Subset of 1.0</td>\n",
       "      <td>1.2</td>\n",
       "      <td>148728.00</td>\n",
       "    </tr>\n",
       "    <tr>\n",
       "      <th>5</th>\n",
       "      <td>Total TSA Customer Ever Opened TSA Account but...</td>\n",
       "      <td>Subset of 1</td>\n",
       "      <td>1.3</td>\n",
       "      <td>11.00</td>\n",
       "    </tr>\n",
       "    <tr>\n",
       "      <th>6</th>\n",
       "      <td>MAU as per New Definition</td>\n",
       "      <td>Set 2</td>\n",
       "      <td>2.0</td>\n",
       "      <td>84528.00</td>\n",
       "    </tr>\n",
       "    <tr>\n",
       "      <th>7</th>\n",
       "      <td>MMAU</td>\n",
       "      <td>Set 3</td>\n",
       "      <td>3.0</td>\n",
       "      <td>62088.00</td>\n",
       "    </tr>\n",
       "  </tbody>\n",
       "</table>\n",
       "</div>"
      ],
      "text/plain": [
       "                                         Description  \\\n",
       "0                 Total Distinct Registered Customer   \n",
       "1                 Total TSA Customer Ever Registered   \n",
       "2       Total TSA Distinct Customers which we closed   \n",
       "3         Total TSA Distinct Customers which is Open   \n",
       "8        Share of open TSA to total registered users   \n",
       "4  Total Customer Ever Registered But Not Opened ...   \n",
       "5  Total TSA Customer Ever Opened TSA Account but...   \n",
       "6                          MAU as per New Definition   \n",
       "7                                               MMAU   \n",
       "\n",
       "                           Set Serialno  OFCUSTOMERID  \n",
       "0                      Overall      1.0    1478585.00  \n",
       "1                Subset of 1.0      1.1    1329857.00  \n",
       "2                Subset of 1.1     1.1a     791142.00  \n",
       "3                Subset of 1.1     1.1b     538715.00  \n",
       "8  Calculation of 1.0 and 1.1b     1.1c          0.36  \n",
       "4                Subset of 1.0      1.2     148728.00  \n",
       "5                  Subset of 1      1.3         11.00  \n",
       "6                        Set 2      2.0      84528.00  \n",
       "7                        Set 3      3.0      62088.00  "
      ]
     },
     "execution_count": 30,
     "metadata": {},
     "output_type": "execute_result"
    }
   ],
   "source": [
    "sorted_counts_sorted = sorted_counts_sorted.sort_values(by='Serialno')\n",
    "sorted_counts_sorted"
   ]
  },
  {
   "cell_type": "code",
   "execution_count": 31,
   "metadata": {},
   "outputs": [],
   "source": [
    "sorted_counts_sorted.to_excel(r\"Deposite_values20240423.xlsx\", index = False)"
   ]
  },
  {
   "cell_type": "code",
   "execution_count": null,
   "metadata": {},
   "outputs": [],
   "source": []
  }
 ],
 "metadata": {
  "kernelspec": {
   "display_name": "Python 3",
   "language": "python",
   "name": "python3"
  },
  "language_info": {
   "codemirror_mode": {
    "name": "ipython",
    "version": 3
   },
   "file_extension": ".py",
   "mimetype": "text/x-python",
   "name": "python",
   "nbconvert_exporter": "python",
   "pygments_lexer": "ipython3",
   "version": "3.10.14"
  }
 },
 "nbformat": 4,
 "nbformat_minor": 2
}
