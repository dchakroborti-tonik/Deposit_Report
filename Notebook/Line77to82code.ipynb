{
 "cells": [
  {
   "cell_type": "markdown",
   "metadata": {},
   "source": [
    "# <div align=\"center\" style=\"color: #ff5733;\">Line 77 to 82 Code</div>"
   ]
  },
  {
   "attachments": {
    "image.png": {
     "image/png": "[encoded data removed]"
    }
   },
   "cell_type": "markdown",
   "metadata": {},
   "source": [
    "![image.png](attachment:image.png)"
   ]
  },
  {
   "cell_type": "code",
   "execution_count": 1,
   "metadata": {},
   "outputs": [],
   "source": [
    "# %% [markdown]\n",
    "# # Jupyter Notebook Loading Header\n",
    "#\n",
    "# This is a custom loading header for Jupyter Notebooks in Visual Studio Code.\n",
    "# It includes common imports and settings to get you started quickly.\n",
    "\n",
    "# %% [markdown]\n",
    "## Import Libraries\n",
    "import pandas as pd\n",
    "import numpy as np\n",
    "import matplotlib.pyplot as plt\n",
    "import seaborn as sns\n",
    "from google.cloud import bigquery\n",
    "import os\n",
    "path = r'C:\\Users\\DwaipayanChakroborti\\AppData\\Roaming\\gcloud\\legacy_credentials\\dchakroborti@tonikbank.com\\adc.json'\n",
    "os.environ['GOOGLE_APPLICATION_CREDENTIALS'] = path\n",
    "client = bigquery.Client(project='prj-prod-dataplatform')\n",
    "\n",
    "# %% [markdown]\n",
    "## Configure Settings\n",
    "# Set options or configurations as needed\n",
    "# Example: pd.set_option('display.max_columns', None)"
   ]
  },
  {
   "cell_type": "code",
   "execution_count": 2,
   "metadata": {},
   "outputs": [],
   "source": [
    "sq = \"\"\"WITH\n",
    "  custrejectlist --- List of all customer id where were ever rejected\n",
    "  AS (\n",
    "  SELECT\n",
    "    customerId,\n",
    "    digitalLoanAccountId,\n",
    "    startApplyDateTime,\n",
    "    applicationStatus\n",
    "  FROM\n",
    "    `risk_credit_mis.loan_master_table`\n",
    "  WHERE\n",
    "    applicationStatus LIKE 'REJECT' ),\n",
    "  Activecustlist ---- List of customer id with active loan\n",
    "  AS (\n",
    "  SELECT\n",
    "    customerId,\n",
    "    digitalLoanAccountId,\n",
    "    loanPaidStatus\n",
    "  FROM\n",
    "    `risk_credit_mis.loan_master_table`\n",
    "  WHERE\n",
    "    COALESCE(loanPaidStatus, 'NA') IN ('Normal',\n",
    "      'In Arrears') ),\n",
    "  RejectcustwithnoActiveLoan --- List of customer id who have a rejected loan earlier and no active current loan\n",
    "  AS (\n",
    "  SELECT\n",
    "    customerId,\n",
    "    max(digitalLoanAccountId) maxloanid,\n",
    "    max(startApplyDateTime) maxapplicationdate,\n",
    "    max(applicationStatus) applicationstatus\n",
    "  FROM\n",
    "    custrejectlist\n",
    "  WHERE\n",
    "    customerId NOT IN (\n",
    "    SELECT\n",
    "      customerId\n",
    "    FROM\n",
    "      Activecustlist) group by 1),\n",
    "  W_DT1 AS (\n",
    "  SELECT\n",
    "    DT\n",
    "  FROM\n",
    "    UNNEST( GENERATE_DATE_ARRAY('2020-11-25', CURRENT_DATE - 1, INTERVAL 1 DAY) ) AS DT ),\n",
    "  W_DT2 AS (\n",
    "  SELECT\n",
    "    A.*,\n",
    "    (\n",
    "    SELECT\n",
    "      MAX(DT)\n",
    "    FROM\n",
    "      prj-prod-dataplatform.dap_ds_poweruser_playground.php_to_usd B\n",
    "    WHERE\n",
    "      B.DT <= A.DT) AS MAXDT\n",
    "  FROM  \n",
    "    W_DT1 A ),\n",
    "  TSA_Customer as\n",
    "(SELECT distinct wd.DT, \n",
    "cb.client_id, \n",
    "cb.account_type, \n",
    "cb.clearedbalance, \n",
    "case when cast(cb.client_id as int64) in (select customerId from RejectcustwithnoActiveLoan) then cb.client_id end RejectcustwithnoActiveLoan\n",
    "FROM W_DT1 wd\n",
    "Left join `prj-prod-dataplatform.risk_mart.customer_balance` cb on cb.balanceDateAsOf = wd.DT\n",
    "WHERE cb.account_type like 'Tonik Account'\n",
    ")\n",
    "select DT, account_type, count(distinct client_id) TSA_Accounts, sum(clearedbalance) totalbalance \n",
    ", count(distinct RejectcustwithnoActiveLoan) TSAAccountwithrejectedloanandnoactiveloan\n",
    ", sum(case when RejectcustwithnoActiveLoan is not null then clearedbalance else 0 end) balanceoftsaaccountwithrejectloannotactiveloan\n",
    "from TSA_Customer \n",
    "group by 1,2\n",
    "order by 1 desc ;\"\"\""
   ]
  },
  {
   "cell_type": "code",
   "execution_count": 3,
   "metadata": {},
   "outputs": [
    {
     "name": "stdout",
     "output_type": "stream",
     "text": [
      "Job ID 434c75f7-33c8-4c18-a85b-7e5a1e795ea6 successfully executed: 100%|\u001b[32m██████████\u001b[0m|\n",
      "Downloading: 100%|\u001b[32m██████████\u001b[0m|\n"
     ]
    },
    {
     "data": {
      "text/plain": [
       "(779, 6)"
      ]
     },
     "execution_count": 3,
     "metadata": {},
     "output_type": "execute_result"
    }
   ],
   "source": [
    "df = client.query(sq).to_dataframe(progress_bar_type='tqdm')\n",
    "df.shape"
   ]
  },
  {
   "cell_type": "code",
   "execution_count": 4,
   "metadata": {},
   "outputs": [
    {
     "data": {
      "text/html": [
       "<div>\n",
       "<style scoped>\n",
       "    .dataframe tbody tr th:only-of-type {\n",
       "        vertical-align: middle;\n",
       "    }\n",
       "\n",
       "    .dataframe tbody tr th {\n",
       "        vertical-align: top;\n",
       "    }\n",
       "\n",
       "    .dataframe thead th {\n",
       "        text-align: right;\n",
       "    }\n",
       "</style>\n",
       "<table border=\"1\" class=\"dataframe\">\n",
       "  <thead>\n",
       "    <tr style=\"text-align: right;\">\n",
       "      <th></th>\n",
       "      <th>DT</th>\n",
       "      <th>account_type</th>\n",
       "      <th>TSA_Accounts</th>\n",
       "      <th>totalbalance</th>\n",
       "      <th>TSAAccountwithrejectedloanandnoactiveloan</th>\n",
       "      <th>balanceoftsaaccountwithrejectloannotactiveloan</th>\n",
       "    </tr>\n",
       "  </thead>\n",
       "  <tbody>\n",
       "    <tr>\n",
       "      <th>0</th>\n",
       "      <td>2024-04-10</td>\n",
       "      <td>Tonik Account</td>\n",
       "      <td>530509</td>\n",
       "      <td>4.633592e+08</td>\n",
       "      <td>68898</td>\n",
       "      <td>3401808.24</td>\n",
       "    </tr>\n",
       "    <tr>\n",
       "      <th>1</th>\n",
       "      <td>2024-04-09</td>\n",
       "      <td>Tonik Account</td>\n",
       "      <td>529973</td>\n",
       "      <td>4.586662e+08</td>\n",
       "      <td>68655</td>\n",
       "      <td>3485085.90</td>\n",
       "    </tr>\n",
       "    <tr>\n",
       "      <th>2</th>\n",
       "      <td>2024-04-08</td>\n",
       "      <td>Tonik Account</td>\n",
       "      <td>533568</td>\n",
       "      <td>4.574377e+08</td>\n",
       "      <td>68415</td>\n",
       "      <td>3688823.02</td>\n",
       "    </tr>\n",
       "    <tr>\n",
       "      <th>3</th>\n",
       "      <td>2024-04-07</td>\n",
       "      <td>Tonik Account</td>\n",
       "      <td>533025</td>\n",
       "      <td>4.591930e+08</td>\n",
       "      <td>68176</td>\n",
       "      <td>3509070.04</td>\n",
       "    </tr>\n",
       "    <tr>\n",
       "      <th>4</th>\n",
       "      <td>2024-04-06</td>\n",
       "      <td>Tonik Account</td>\n",
       "      <td>532367</td>\n",
       "      <td>4.640021e+08</td>\n",
       "      <td>67917</td>\n",
       "      <td>3713726.45</td>\n",
       "    </tr>\n",
       "  </tbody>\n",
       "</table>\n",
       "</div>"
      ],
      "text/plain": [
       "           DT   account_type  TSA_Accounts  totalbalance  \\\n",
       "0  2024-04-10  Tonik Account        530509  4.633592e+08   \n",
       "1  2024-04-09  Tonik Account        529973  4.586662e+08   \n",
       "2  2024-04-08  Tonik Account        533568  4.574377e+08   \n",
       "3  2024-04-07  Tonik Account        533025  4.591930e+08   \n",
       "4  2024-04-06  Tonik Account        532367  4.640021e+08   \n",
       "\n",
       "   TSAAccountwithrejectedloanandnoactiveloan  \\\n",
       "0                                      68898   \n",
       "1                                      68655   \n",
       "2                                      68415   \n",
       "3                                      68176   \n",
       "4                                      67917   \n",
       "\n",
       "   balanceoftsaaccountwithrejectloannotactiveloan  \n",
       "0                                      3401808.24  \n",
       "1                                      3485085.90  \n",
       "2                                      3688823.02  \n",
       "3                                      3509070.04  \n",
       "4                                      3713726.45  "
      ]
     },
     "execution_count": 4,
     "metadata": {},
     "output_type": "execute_result"
    }
   ],
   "source": [
    "df.head()"
   ]
  },
  {
   "cell_type": "code",
   "execution_count": null,
   "metadata": {},
   "outputs": [],
   "source": []
  }
 ],
 "metadata": {
  "kernelspec": {
   "display_name": "prjreports",
   "language": "python",
   "name": "python3"
  },
  "language_info": {
   "codemirror_mode": {
    "name": "ipython",
    "version": 3
   },
   "file_extension": ".py",
   "mimetype": "text/x-python",
   "name": "python",
   "nbconvert_exporter": "python",
   "pygments_lexer": "ipython3",
   "version": "3.9.10"
  }
 },
 "nbformat": 4,
 "nbformat_minor": 2
}
